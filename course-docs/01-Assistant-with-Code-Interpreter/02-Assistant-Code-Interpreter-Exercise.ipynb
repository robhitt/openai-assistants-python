{
 "cells": [
  {
   "cell_type": "markdown",
   "id": "9b61ca09-df53-48a9-ae2b-b80ce5f8eea0",
   "metadata": {},
   "source": [
    "<center><a href=\"https://www.pieriantraining.com/\" ><img src=\"../PTCenteredPurple.png\" alt=\"Pierian Training Logo\" /></a></center>\n"
   ]
  },
  {
   "cell_type": "markdown",
   "id": "7706bce7-09b9-4127-a485-dfa2cacf4ebb",
   "metadata": {
    "tags": []
   },
   "source": [
    "# OpenAI Assistant with Code Interpreter - Exercise \n",
    "\n",
    "# EXERCISE TASK:\n",
    "\n",
    "**In this exercise, you will create an Assistant that can take in a long text description of a bill at a restuarant and who ordered what and how much items cost, and then split the bill among the party accurately.**\n",
    "\n",
    "----\n",
    "\n",
    "**EXAMPLE INPUT:**\n",
    "\n",
    "    Mary ordered a burger, fries and coke. I ordered just a salad and coke.\n",
    "    A burger is $10, fries are $5, a salad is $8, and cokes are $2 each.\n",
    "    We want to leave an 18% tip. Please split the bill between Mary and me, how much do we each owe?\n",
    "\n",
    "\n",
    "**EXPECTED OUTPUT:**\n",
    "\n",
    "    To split the bill, we need to calculate the total cost of the food and drinks, add the 18% tip, and then divide the total by 2 to get the amount each person owes.\n",
    "\n",
    "    Based on the given prices, Mary ordered a burger ($10), fries ($5), and a coke ($2). So the total cost of her order is $10 + $5 + $2 = $17.\n",
    "\n",
    "    You ordered a salad ($8) and a coke ($2). So the total cost of your order is $8 + $2 = $10.\n",
    "\n",
    "    The total bill for both of you is $17 + $10 = $27.\n",
    "\n",
    "    Now we need to add an 18% tip to the total bill. The tip amount is 18% of $27, which is (18/100) * $27 = $4.86.\n",
    "\n",
    "    Finally, we can split the total bill including the tip between the two of you.\n",
    "\n",
    "\n",
    "    Each person owes $15.93.\n",
    "\n",
    "**Note: We will continue the conversation with this added message input:**\n",
    "\n",
    "    **Do not split the bill evenly. Have each person only pay for what they ordered, but don't forget the tip.**\n",
    "\n",
    "\n",
    "**Then get an output something like:**\n",
    "\n",
    "    To split the bill based on what each person ordered, we can calculate the total cost of Mary's order, the total cost of your order, and then add the 18% tip to the total bill.\n",
    "\n",
    "    Mary's total cost is $17, and your total cost is $10. \n",
    "\n",
    "    The total bill for both of you is $17 + $10 = $27.\n",
    "\n",
    "    Now we need to add an 18% tip to the total bill. The tip amount is 18% of $27, which is (18/100) * $27 = $4.86.\n",
    "\n",
    "    Finally, we can add the tip to the total bill and split it between the two of you based on what each person ordered.\n",
    "\n",
    "\n",
    "    Considering that Mary ordered a burger, fries, and a coke with a total cost of $17, while you ordered a salad and a coke with a total cost of $10, the bill split would be as follows:\n",
    "\n",
    "    Mary owes $20.06, and you owe $11.80.\n",
    "    \n",
    "    \n",
    "**Complete the tasks below to complete the exercise!**\n",
    "\n",
    "---"
   ]
  },
  {
   "cell_type": "markdown",
   "id": "65634a4d-be3d-4ffd-9709-cc602cfa38e4",
   "metadata": {},
   "source": [
    "**TASK: Create a client connection to OpenAI**"
   ]
  },
  {
   "cell_type": "code",
   "execution_count": 4,
   "id": "2092d969-cbf5-4f0f-b5fc-60aeef6cb63a",
   "metadata": {},
   "outputs": [],
   "source": [
    "# CODE HERE"
   ]
  },
  {
   "cell_type": "markdown",
   "id": "b6c2d572-85e4-4f2a-aa83-77f2da007788",
   "metadata": {},
   "source": [
    "**TASK: Create the assistant. Make sure your instructions are clear!**"
   ]
  },
  {
   "cell_type": "code",
   "execution_count": 7,
   "id": "ee8e32aa-d6e5-4780-a77a-5b080f6266b7",
   "metadata": {},
   "outputs": [],
   "source": [
    "#CODE HERE"
   ]
  },
  {
   "cell_type": "markdown",
   "id": "926b5c0b-1e0c-42ac-9d0e-9f53017f4894",
   "metadata": {},
   "source": [
    "**TASK: Initiate a new thread.**"
   ]
  },
  {
   "cell_type": "code",
   "execution_count": 10,
   "id": "3df385f4-9c08-4eb4-afbf-fb44cdd40ad5",
   "metadata": {},
   "outputs": [],
   "source": [
    "#CODE HERE"
   ]
  },
  {
   "cell_type": "markdown",
   "id": "379b6d4a-dc94-4fb3-95b1-4b75b74f6ee5",
   "metadata": {},
   "source": [
    "**TASK: Add a new user message to the thread. Use the string below as the content:**"
   ]
  },
  {
   "cell_type": "code",
   "execution_count": null,
   "id": "bcdadf02-9ea5-436e-90f5-ef9ab8804ac1",
   "metadata": {},
   "outputs": [],
   "source": [
    "# FEEL FREE TO PLAY AROUND WITH THE CONTENT STRING BELOW TO TEST YOUR ASSISTANT!"
   ]
  },
  {
   "cell_type": "code",
   "execution_count": 11,
   "id": "67c73547-f04c-41ab-96b2-ad2dd67f3fb5",
   "metadata": {},
   "outputs": [],
   "source": [
    "content = '''Mary ordered a burger, fries and coke. I ordered just a salad and coke.\n",
    "A burger is $10, fries are $5, a salad is $8, and cokes are $2 each.\n",
    "We want to leave an 18% tip. Please split the bill between Mary and me, how much do we each owe?'''"
   ]
  },
  {
   "cell_type": "markdown",
   "id": "b232f7c7-2811-41c9-8dd2-c0b076b30809",
   "metadata": {},
   "source": [
    "**TASK: Run the thread using the assistant created earlier.**"
   ]
  },
  {
   "cell_type": "code",
   "execution_count": 1,
   "id": "a0a3a6c4-bd79-48c7-824e-1790e16c9117",
   "metadata": {},
   "outputs": [],
   "source": [
    "#CODE HERE"
   ]
  },
  {
   "cell_type": "markdown",
   "id": "a0d9ddfc-201f-42bd-b800-d067cf4feb17",
   "metadata": {},
   "source": [
    "**TASK: Display the message conversation between the user and the assistant.**"
   ]
  },
  {
   "cell_type": "code",
   "execution_count": 15,
   "id": "738fbce4-10f0-485e-9112-32ce2b345f53",
   "metadata": {},
   "outputs": [],
   "source": [
    "#CODE HERE"
   ]
  },
  {
   "cell_type": "code",
   "execution_count": 18,
   "id": "f84116ee-a546-4fa8-823c-2ff4cc681713",
   "metadata": {},
   "outputs": [
    {
     "name": "stdout",
     "output_type": "stream",
     "text": [
      "Mary ordered a burger, fries and coke. I ordered just a salad and coke.\n",
      "A burger is $10, fries are $5, a salad is $8, and cokes are $2 each.\n",
      "We want to leave an 18% tip. Please split the bill between Mary and me, how much do we each owe?\n",
      "\n",
      "\n",
      "To split the bill, we need to calculate the total cost of the food and drinks, add the 18% tip, and then divide the total by 2 to get the amount each person owes.\n",
      "\n",
      "Based on the given prices, Mary ordered a burger ($10), fries ($5), and a coke ($2). So the total cost of her order is $10 + $5 + $2 = $17.\n",
      "\n",
      "You ordered a salad ($8) and a coke ($2). So the total cost of your order is $8 + $2 = $10.\n",
      "\n",
      "The total bill for both of you is $17 + $10 = $27.\n",
      "\n",
      "Now we need to add an 18% tip to the total bill. The tip amount is 18% of $27, which is (18/100) * $27 = $4.86.\n",
      "\n",
      "Finally, we can split the total bill including the tip between the two of you.\n",
      "\n",
      "\n",
      "Each person owes $15.93.\n",
      "\n",
      "\n"
     ]
    }
   ],
   "source": []
  },
  {
   "cell_type": "markdown",
   "id": "3872422c-be19-448c-ac05-fb4cbbbe7d22",
   "metadata": {},
   "source": [
    "**TASK: If the Assistant bot split the bill evenly, add a new message asking the bill to be split based on what people ordered. (e.g. Mary should pay more since she ordered more). Then re-run the thread and re-display all the messages.**"
   ]
  },
  {
   "cell_type": "code",
   "execution_count": 25,
   "id": "d1a8ce8a-74c5-4c9f-8a79-2577571166f9",
   "metadata": {},
   "outputs": [
    {
     "name": "stdout",
     "output_type": "stream",
     "text": [
      "Mary ordered a burger, fries and coke. I ordered just a salad and coke.\n",
      "A burger is $10, fries are $5, a salad is $8, and cokes are $2 each.\n",
      "We want to leave an 18% tip. Please split the bill between Mary and me, how much do we each owe?\n",
      "\n",
      "\n",
      "To split the bill, we need to calculate the total cost of the food and drinks, add the 18% tip, and then divide the total by 2 to get the amount each person owes.\n",
      "\n",
      "Based on the given prices, Mary ordered a burger ($10), fries ($5), and a coke ($2). So the total cost of her order is $10 + $5 + $2 = $17.\n",
      "\n",
      "You ordered a salad ($8) and a coke ($2). So the total cost of your order is $8 + $2 = $10.\n",
      "\n",
      "The total bill for both of you is $17 + $10 = $27.\n",
      "\n",
      "Now we need to add an 18% tip to the total bill. The tip amount is 18% of $27, which is (18/100) * $27 = $4.86.\n",
      "\n",
      "Finally, we can split the total bill including the tip between the two of you.\n",
      "\n",
      "\n",
      "Each person owes $15.93.\n",
      "\n",
      "\n",
      "Do not split the bill evenly. Have each person only pay for what they ordered, but don't forget the tip.\n",
      "\n",
      "\n",
      "To split the bill based on what each person ordered, we can calculate the total cost of Mary's order, the total cost of your order, and then add the 18% tip to the total bill.\n",
      "\n",
      "Mary's total cost is $17, and your total cost is $10. \n",
      "\n",
      "The total bill for both of you is $17 + $10 = $27.\n",
      "\n",
      "Now we need to add an 18% tip to the total bill. The tip amount is 18% of $27, which is (18/100) * $27 = $4.86.\n",
      "\n",
      "Finally, we can add the tip to the total bill and split it between the two of you based on what each person ordered.\n",
      "\n",
      "\n",
      "Considering that Mary ordered a burger, fries, and a coke with a total cost of $17, while you ordered a salad and a coke with a total cost of $10, the bill split would be as follows:\n",
      "\n",
      "Mary owes $20.06, and you owe $11.80.\n",
      "\n",
      "\n"
     ]
    }
   ],
   "source": []
  },
  {
   "cell_type": "markdown",
   "id": "15e43433-cb43-48da-9118-8e5b55ce9528",
   "metadata": {},
   "source": [
    "**TASK: Delete your assistant.**"
   ]
  },
  {
   "cell_type": "code",
   "execution_count": null,
   "id": "5d75f9b2-786c-404b-aa0b-e32ef34ef439",
   "metadata": {},
   "outputs": [],
   "source": [
    "# CODE HERE"
   ]
  },
  {
   "cell_type": "code",
   "execution_count": 27,
   "id": "eda934fd-6547-4163-848b-146a069862bd",
   "metadata": {},
   "outputs": [
    {
     "name": "stdout",
     "output_type": "stream",
     "text": [
      "AssistantDeleted(id='asst_3KpWQk5VHxedDK3l8wKlI0W9', deleted=True, object='assistant.deleted')\n"
     ]
    }
   ],
   "source": []
  },
  {
   "cell_type": "markdown",
   "id": "ad682988-5fcf-48dc-9e9c-6bd08622cac9",
   "metadata": {},
   "source": [
    "---"
   ]
  }
 ],
 "metadata": {
  "kernelspec": {
   "display_name": "Python 3 (ipykernel)",
   "language": "python",
   "name": "python3"
  },
  "language_info": {
   "codemirror_mode": {
    "name": "ipython",
    "version": 3
   },
   "file_extension": ".py",
   "mimetype": "text/x-python",
   "name": "python",
   "nbconvert_exporter": "python",
   "pygments_lexer": "ipython3",
   "version": "3.9.12"
  }
 },
 "nbformat": 4,
 "nbformat_minor": 5
}

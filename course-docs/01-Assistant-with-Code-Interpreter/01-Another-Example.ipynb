{
 "cells": [
  {
   "cell_type": "markdown",
   "id": "9b61ca09-df53-48a9-ae2b-b80ce5f8eea0",
   "metadata": {},
   "source": [
    "<center><a href=\"https://www.pieriantraining.com/\" ><img src=\"../PTCenteredPurple.png\" alt=\"Pierian Training Logo\" /></a></center>\n"
   ]
  },
  {
   "cell_type": "markdown",
   "id": "7706bce7-09b9-4127-a485-dfa2cacf4ebb",
   "metadata": {},
   "source": [
    "## OpenAI Assistant with Code Interpreter\n",
    "\n",
    "Let's work through another example of creating an assistant with the code-interpreter tool!"
   ]
  },
  {
   "cell_type": "code",
   "execution_count": 1,
   "id": "d1bd7070-48e5-42e4-8c2a-23afc5ccdcbd",
   "metadata": {},
   "outputs": [],
   "source": [
    "from openai import OpenAI"
   ]
  },
  {
   "cell_type": "code",
   "execution_count": 2,
   "id": "f17c33b6-4535-4976-9c23-9ef51a726ea2",
   "metadata": {},
   "outputs": [],
   "source": [
    "client = OpenAI()"
   ]
  },
  {
   "cell_type": "markdown",
   "id": "881696c9-ccdb-4f68-ad7e-7b3d8a6754d0",
   "metadata": {},
   "source": [
    "### STEP 1: ASSISTANT CREATION"
   ]
  },
  {
   "cell_type": "code",
   "execution_count": 40,
   "id": "60f0f6aa-cbd4-4360-b45a-d1af02d1b8f5",
   "metadata": {},
   "outputs": [],
   "source": [
    "assistant = client.beta.assistants.create(\n",
    "    name=\"Mortgage Bot\",\n",
    "    instructions=\"You use Python code to help answer questions about mortgage and interest payments.\",\n",
    "    tools=[{\"type\": \"code_interpreter\"}],\n",
    "    model=\"gpt-3.5-turbo\"\n",
    ")"
   ]
  },
  {
   "cell_type": "markdown",
   "id": "b2f0ec2d-7c3e-4afa-9aa9-05688f7eb16f",
   "metadata": {},
   "source": [
    "### STEP 2: THREAD CREATION"
   ]
  },
  {
   "cell_type": "code",
   "execution_count": 41,
   "id": "eda0f447-01ec-4b66-9121-49ce287cbcbb",
   "metadata": {},
   "outputs": [],
   "source": [
    "thread = client.beta.threads.create()"
   ]
  },
  {
   "cell_type": "markdown",
   "id": "38febadc-8c3d-43e7-b72a-1f2ac9977e3e",
   "metadata": {},
   "source": [
    "### STEP 3: ADD MESSAGE TO THREAD"
   ]
  },
  {
   "cell_type": "code",
   "execution_count": 42,
   "id": "27c35f2b-3603-4b4b-8475-015d37035565",
   "metadata": {},
   "outputs": [],
   "source": [
    "message = client.beta.threads.messages.create(\n",
    "    thread_id=thread.id,\n",
    "    role=\"user\",\n",
    "    content=\"I want to buy a house that costs $2.1 Milion on a 30-yr fixed loan at 7.8% interest. What will my monthly payments be?\"\n",
    ")"
   ]
  },
  {
   "cell_type": "markdown",
   "id": "4abf4cc9-7eb9-4877-8d80-c2ba424e8d36",
   "metadata": {},
   "source": [
    "### STEP 4: RUN THREAD WITH ASSISTANT"
   ]
  },
  {
   "cell_type": "code",
   "execution_count": 43,
   "id": "4a7a1724-83b1-439e-86f2-7914e73b8b33",
   "metadata": {},
   "outputs": [],
   "source": [
    "run = client.beta.threads.runs.create(\n",
    "  thread_id=thread.id,\n",
    "  assistant_id=assistant.id,\n",
    "  instructions=\"Give detailed analysis and considerations for the user question.\"\n",
    ")"
   ]
  },
  {
   "cell_type": "code",
   "execution_count": 44,
   "id": "bbc775d6-6579-4313-909c-bd19f88aaa90",
   "metadata": {},
   "outputs": [
    {
     "name": "stdout",
     "output_type": "stream",
     "text": [
      "STILL IN PROGRESS\n",
      "in_progress\n",
      "STILL IN PROGRESS\n",
      "completed\n"
     ]
    }
   ],
   "source": [
    "import time\n",
    "\n",
    "while run.status != \"completed\":\n",
    "    run = client.beta.threads.runs.retrieve(\n",
    "          thread_id=thread.id,\n",
    "          run_id=run.id\n",
    "        )\n",
    "    \n",
    "    print(run.status)\n",
    "    \n",
    "    time.sleep(5)"
   ]
  },
  {
   "cell_type": "markdown",
   "id": "ee5c32ac-c459-4012-ac7f-6ffc5f68f83d",
   "metadata": {},
   "source": [
    "### STEP 5: DISPLAY RESPONSE"
   ]
  },
  {
   "cell_type": "code",
   "execution_count": 45,
   "id": "53a62972-68c7-4d56-b80d-4318532f08cc",
   "metadata": {},
   "outputs": [],
   "source": [
    "messages = client.beta.threads.messages.list(\n",
    "  thread_id=thread.id\n",
    ")"
   ]
  },
  {
   "cell_type": "code",
   "execution_count": 46,
   "id": "dbb5538b-0b06-4f07-829e-a07995b6b23a",
   "metadata": {},
   "outputs": [
    {
     "data": {
      "text/plain": [
       "SyncCursorPage[ThreadMessage](data=[ThreadMessage(id='msg_F8cG72YzttpcZCTFVlmrSJFo', assistant_id='asst_cv21kOPIOyRgjXVfpay8pFfc', content=[MessageContentText(text=Text(annotations=[], value='The monthly mortgage payments for a house priced at $2.1 million on a 30-year fixed loan with a 7.8% interest rate will be approximately $15,117.28.'), type='text')], created_at=1701914291, file_ids=[], metadata={}, object='thread.message', role='assistant', run_id='run_NkxEVBA7cqpCBxxUXFqNZUfU', thread_id='thread_amw2BVxDdHbdt0otmq2KfdMJ'), ThreadMessage(id='msg_i5RM3b4yV1Hqkw0iXXkxnKo8', assistant_id='asst_cv21kOPIOyRgjXVfpay8pFfc', content=[MessageContentText(text=Text(annotations=[], value=\"To calculate your monthly mortgage payments, you can use the formula for calculating the fixed monthly payment on a loan. The formula is:\\n\\n\\\\[ M = \\\\frac{P \\\\cdot r \\\\cdot (1+r)^n}{(1+r)^n-1} \\\\]\\n\\nWhere:\\n- M is the monthly mortgage payment\\n- P is the loan amount\\n- r is the monthly interest rate (annual interest rate divided by 12)\\n- n is the total number of payments (number of years multiplied by 12)\\n\\nLet's calculate the monthly payments for your house.\"), type='text')], created_at=1701914279, file_ids=[], metadata={}, object='thread.message', role='assistant', run_id='run_NkxEVBA7cqpCBxxUXFqNZUfU', thread_id='thread_amw2BVxDdHbdt0otmq2KfdMJ'), ThreadMessage(id='msg_WOfD1PJz7gm9Cx8HFUYU5Bjz', assistant_id=None, content=[MessageContentText(text=Text(annotations=[], value='I want to buy a house that costs $2.1 Milion on a 30-yr fixed loan at 7.8% interest. What will my monthly payments be?'), type='text')], created_at=1701914276, file_ids=[], metadata={}, object='thread.message', role='user', run_id=None, thread_id='thread_amw2BVxDdHbdt0otmq2KfdMJ')], object='list', first_id='msg_F8cG72YzttpcZCTFVlmrSJFo', last_id='msg_WOfD1PJz7gm9Cx8HFUYU5Bjz', has_more=False)"
      ]
     },
     "execution_count": 46,
     "metadata": {},
     "output_type": "execute_result"
    }
   ],
   "source": [
    "messages"
   ]
  },
  {
   "cell_type": "code",
   "execution_count": 47,
   "id": "5d2a74a0-f360-474e-aa27-cf2c012db403",
   "metadata": {},
   "outputs": [
    {
     "name": "stdout",
     "output_type": "stream",
     "text": [
      "I want to buy a house that costs $2.1 Milion on a 30-yr fixed loan at 7.8% interest. What will my monthly payments be?\n",
      "\n",
      "\n",
      "To calculate your monthly mortgage payments, you can use the formula for calculating the fixed monthly payment on a loan. The formula is:\n",
      "\n",
      "\\[ M = \\frac{P \\cdot r \\cdot (1+r)^n}{(1+r)^n-1} \\]\n",
      "\n",
      "Where:\n",
      "- M is the monthly mortgage payment\n",
      "- P is the loan amount\n",
      "- r is the monthly interest rate (annual interest rate divided by 12)\n",
      "- n is the total number of payments (number of years multiplied by 12)\n",
      "\n",
      "Let's calculate the monthly payments for your house.\n",
      "\n",
      "\n",
      "The monthly mortgage payments for a house priced at $2.1 million on a 30-year fixed loan with a 7.8% interest rate will be approximately $15,117.28.\n",
      "\n",
      "\n"
     ]
    }
   ],
   "source": [
    "for thread_message in messages.data[::-1]:\n",
    "    print(thread_message.content[0].text.value)\n",
    "    print('\\n')"
   ]
  },
  {
   "cell_type": "code",
   "execution_count": 57,
   "id": "0dc471d9-d0b8-4c12-a5b8-31dab254211e",
   "metadata": {},
   "outputs": [],
   "source": [
    "def display_thread_messages(messages):\n",
    "    # EXPECTS MESSAGES IN ASC ORDER!\n",
    "    for thread_message in messages.data:\n",
    "        print(thread_message.content[0].text.value)\n",
    "        print('\\n')"
   ]
  },
  {
   "cell_type": "markdown",
   "id": "c0d3c2e7-51da-487e-a776-449f2f2a9640",
   "metadata": {},
   "source": [
    "### STEP 6: CONTINUE CONVERSATION"
   ]
  },
  {
   "cell_type": "code",
   "execution_count": 48,
   "id": "9316de21-1e14-4e20-a070-5a3a3142c984",
   "metadata": {},
   "outputs": [],
   "source": [
    "def wait_on_run(run, thread):\n",
    "    '''\n",
    "    Simple function that waits on the run of a particular thread.\n",
    "    Returns the run once the thread has been run.\n",
    "    '''\n",
    "    while run.status == \"queued\" or run.status == \"in_progress\":\n",
    "        run = client.beta.threads.runs.retrieve(\n",
    "            thread_id=thread.id,\n",
    "            run_id=run.id,\n",
    "        )\n",
    "        time.sleep(0.5)\n",
    "    return run"
   ]
  },
  {
   "cell_type": "code",
   "execution_count": 49,
   "id": "ff6edb8d-d6f6-4fec-b53f-ba0ec60f902f",
   "metadata": {},
   "outputs": [
    {
     "data": {
      "text/plain": [
       "SyncCursorPage[ThreadMessage](data=[ThreadMessage(id='msg_F8cG72YzttpcZCTFVlmrSJFo', assistant_id='asst_cv21kOPIOyRgjXVfpay8pFfc', content=[MessageContentText(text=Text(annotations=[], value='The monthly mortgage payments for a house priced at $2.1 million on a 30-year fixed loan with a 7.8% interest rate will be approximately $15,117.28.'), type='text')], created_at=1701914291, file_ids=[], metadata={}, object='thread.message', role='assistant', run_id='run_NkxEVBA7cqpCBxxUXFqNZUfU', thread_id='thread_amw2BVxDdHbdt0otmq2KfdMJ'), ThreadMessage(id='msg_i5RM3b4yV1Hqkw0iXXkxnKo8', assistant_id='asst_cv21kOPIOyRgjXVfpay8pFfc', content=[MessageContentText(text=Text(annotations=[], value=\"To calculate your monthly mortgage payments, you can use the formula for calculating the fixed monthly payment on a loan. The formula is:\\n\\n\\\\[ M = \\\\frac{P \\\\cdot r \\\\cdot (1+r)^n}{(1+r)^n-1} \\\\]\\n\\nWhere:\\n- M is the monthly mortgage payment\\n- P is the loan amount\\n- r is the monthly interest rate (annual interest rate divided by 12)\\n- n is the total number of payments (number of years multiplied by 12)\\n\\nLet's calculate the monthly payments for your house.\"), type='text')], created_at=1701914279, file_ids=[], metadata={}, object='thread.message', role='assistant', run_id='run_NkxEVBA7cqpCBxxUXFqNZUfU', thread_id='thread_amw2BVxDdHbdt0otmq2KfdMJ'), ThreadMessage(id='msg_WOfD1PJz7gm9Cx8HFUYU5Bjz', assistant_id=None, content=[MessageContentText(text=Text(annotations=[], value='I want to buy a house that costs $2.1 Milion on a 30-yr fixed loan at 7.8% interest. What will my monthly payments be?'), type='text')], created_at=1701914276, file_ids=[], metadata={}, object='thread.message', role='user', run_id=None, thread_id='thread_amw2BVxDdHbdt0otmq2KfdMJ')], object='list', first_id='msg_F8cG72YzttpcZCTFVlmrSJFo', last_id='msg_WOfD1PJz7gm9Cx8HFUYU5Bjz', has_more=False)"
      ]
     },
     "execution_count": 49,
     "metadata": {},
     "output_type": "execute_result"
    }
   ],
   "source": [
    "client.beta.threads.messages.list(thread_id=thread.id)"
   ]
  },
  {
   "cell_type": "code",
   "execution_count": 51,
   "id": "5c968326-564f-4a16-9014-5cb512cb196a",
   "metadata": {},
   "outputs": [],
   "source": [
    "message = client.beta.threads.messages.create(\n",
    "    thread_id=thread.id, role=\"user\", content=\"What if I put a down payment of $200k on the house, how would that change the monthly payments?\"\n",
    ")"
   ]
  },
  {
   "cell_type": "code",
   "execution_count": 54,
   "id": "fd6c557f-4e8f-4783-881b-ea69de9821cc",
   "metadata": {},
   "outputs": [
    {
     "name": "stdout",
     "output_type": "stream",
     "text": [
      "With a down payment of $200,000 on the house, the new loan amount would be $1,900,000. The new monthly mortgage payment would be approximately $13,677.54.\n",
      "\n",
      "\n",
      "If you make a down payment of $200,000 on the house, it will decrease the loan amount. To calculate the new monthly mortgage payments, we need to subtract the down payment from the original loan amount. Let's calculate the new monthly payments.\n",
      "\n",
      "\n"
     ]
    }
   ],
   "source": [
    "# Execute our run\n",
    "run = client.beta.threads.runs.create(\n",
    "    thread_id=thread.id,\n",
    "    assistant_id=assistant.id,\n",
    ")\n",
    "\n",
    "# Wait for completion\n",
    "wait_on_run(run, thread)\n",
    "\n",
    "# Retrieve all the messages added after our last user message\n",
    "# WE CAN REQUEST IN 'ASC' ORDER\n",
    "# WE CAN ALSO REQUEST ONLY MESSAGES AFTER A PARTICULAR ID!\n",
    "messages = client.beta.threads.messages.list(\n",
    "    thread_id=thread.id, order=\"asc\", after=message.id\n",
    ")\n",
    "\n",
    "display_thread_messages(messages)"
   ]
  },
  {
   "cell_type": "markdown",
   "id": "bbe3f4c8-278c-4a40-ba12-0af374cc5ce2",
   "metadata": {},
   "source": [
    "-----"
   ]
  },
  {
   "cell_type": "markdown",
   "id": "c66b0970-8c22-42ca-ab21-f721e74bfd1d",
   "metadata": {},
   "source": [
    "### Optional: Review the Run Steps the program took to get the reply"
   ]
  },
  {
   "cell_type": "code",
   "execution_count": 58,
   "id": "82cf5d57-176c-450f-9736-1bfb100373f7",
   "metadata": {},
   "outputs": [
    {
     "data": {
      "text/plain": [
       "SyncCursorPage[Run](data=[Run(id='run_sWXbCHS9kbNmerxQ7oG1jtjF', assistant_id='asst_cv21kOPIOyRgjXVfpay8pFfc', cancelled_at=None, completed_at=1701914636, created_at=1701914622, expires_at=None, failed_at=None, file_ids=[], instructions='You use Python code to help answer questions about mortgage and interest payments.', last_error=None, metadata={}, model='gpt-3.5-turbo', object='thread.run', required_action=None, started_at=1701914622, status='completed', thread_id='thread_amw2BVxDdHbdt0otmq2KfdMJ', tools=[ToolAssistantToolsCode(type='code_interpreter')]), Run(id='run_NkxEVBA7cqpCBxxUXFqNZUfU', assistant_id='asst_cv21kOPIOyRgjXVfpay8pFfc', cancelled_at=None, completed_at=1701914292, created_at=1701914278, expires_at=None, failed_at=None, file_ids=[], instructions='Give detailed analysis and considerations for the user question.', last_error=None, metadata={}, model='gpt-3.5-turbo', object='thread.run', required_action=None, started_at=1701914278, status='completed', thread_id='thread_amw2BVxDdHbdt0otmq2KfdMJ', tools=[ToolAssistantToolsCode(type='code_interpreter')])], object='list', first_id='run_sWXbCHS9kbNmerxQ7oG1jtjF', last_id='run_NkxEVBA7cqpCBxxUXFqNZUfU', has_more=False)"
      ]
     },
     "execution_count": 58,
     "metadata": {},
     "output_type": "execute_result"
    }
   ],
   "source": [
    "client.beta.threads.runs.list(thread.id)"
   ]
  },
  {
   "cell_type": "code",
   "execution_count": 59,
   "id": "946f6213-fae0-4f12-9799-9e960b24a831",
   "metadata": {},
   "outputs": [],
   "source": [
    "run_steps = client.beta.threads.runs.steps.list(\n",
    "    thread_id=thread.id,\n",
    "    run_id=run.id\n",
    ")"
   ]
  },
  {
   "cell_type": "code",
   "execution_count": 60,
   "id": "bdfb834c-1596-4eb2-8101-e7a154245443",
   "metadata": {},
   "outputs": [
    {
     "name": "stdout",
     "output_type": "stream",
     "text": [
      "MessageCreationStepDetails(message_creation=MessageCreation(message_id='msg_s1HJdFmDlVdEYM05JEQP5oye'), type='message_creation')\n",
      "\n",
      "\n",
      "ToolCallsStepDetails(tool_calls=[CodeToolCall(id='call_tfnMmvWr2iJOEEH9MG1ItBzO', code_interpreter=CodeInterpreter(input='down_payment = 200000\\nnew_loan_amount = loan_amount - down_payment\\n\\nnew_monthly_payment = (new_loan_amount * monthly_interest_rate * (1 + monthly_interest_rate)**total_payments) / ((1 + monthly_interest_rate)**total_payments - 1)\\nnew_monthly_payment', outputs=[CodeInterpreterOutputLogs(logs='13677.539515968123', type='logs')]), type='code_interpreter')], type='tool_calls')\n",
      "\n",
      "\n",
      "MessageCreationStepDetails(message_creation=MessageCreation(message_id='msg_cPivY7mHx7rMtTHWuMEBG9eP'), type='message_creation')\n",
      "\n",
      "\n"
     ]
    }
   ],
   "source": [
    "for step in run_steps:\n",
    "    print(step.step_details)\n",
    "    print('\\n')"
   ]
  },
  {
   "cell_type": "markdown",
   "id": "b05318a1-f761-4aa9-95a5-3b3b0bf200c9",
   "metadata": {},
   "source": [
    "### Optional: Delete Assistant"
   ]
  },
  {
   "cell_type": "code",
   "execution_count": 61,
   "id": "37d16882-1ec8-484b-832c-592d64f9d6dd",
   "metadata": {},
   "outputs": [
    {
     "name": "stdout",
     "output_type": "stream",
     "text": [
      "[Assistant(id='asst_cv21kOPIOyRgjXVfpay8pFfc', created_at=1701914273, description=None, file_ids=[], instructions='You use Python code to help answer questions about mortgage and interest payments.', metadata={}, model='gpt-3.5-turbo', name='Mortgage Bot', object='assistant', tools=[ToolCodeInterpreter(type='code_interpreter')])]\n"
     ]
    }
   ],
   "source": [
    "my_assistants = client.beta.assistants.list(\n",
    "    order=\"desc\",\n",
    "    limit=\"20\",\n",
    ")\n",
    "print(my_assistants.data)"
   ]
  },
  {
   "cell_type": "code",
   "execution_count": 63,
   "id": "f292a3ed-d91c-468b-bb06-3e3b7a522e33",
   "metadata": {},
   "outputs": [
    {
     "data": {
      "text/plain": [
       "'asst_cv21kOPIOyRgjXVfpay8pFfc'"
      ]
     },
     "execution_count": 63,
     "metadata": {},
     "output_type": "execute_result"
    }
   ],
   "source": [
    "my_assistants.data[0].id"
   ]
  },
  {
   "cell_type": "code",
   "execution_count": 64,
   "id": "5fb34dde-854d-4fc8-b509-ca56672b60b8",
   "metadata": {},
   "outputs": [
    {
     "name": "stdout",
     "output_type": "stream",
     "text": [
      "AssistantDeleted(id='asst_cv21kOPIOyRgjXVfpay8pFfc', deleted=True, object='assistant.deleted')\n"
     ]
    }
   ],
   "source": [
    "response = client.beta.assistants.delete(my_assistants.data[0].id)\n",
    "print(response)"
   ]
  },
  {
   "cell_type": "code",
   "execution_count": null,
   "id": "56d68e52-04e8-47fe-96dd-11458468417d",
   "metadata": {},
   "outputs": [],
   "source": []
  }
 ],
 "metadata": {
  "kernelspec": {
   "display_name": "Python 3 (ipykernel)",
   "language": "python",
   "name": "python3"
  },
  "language_info": {
   "codemirror_mode": {
    "name": "ipython",
    "version": 3
   },
   "file_extension": ".py",
   "mimetype": "text/x-python",
   "name": "python",
   "nbconvert_exporter": "python",
   "pygments_lexer": "ipython3",
   "version": "3.9.12"
  }
 },
 "nbformat": 4,
 "nbformat_minor": 5
}

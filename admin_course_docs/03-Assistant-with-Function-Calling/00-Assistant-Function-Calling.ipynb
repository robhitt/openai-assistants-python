{
 "cells": [
  {
   "cell_type": "markdown",
   "id": "9b61ca09-df53-48a9-ae2b-b80ce5f8eea0",
   "metadata": {},
   "source": [
    "<center><a href=\"https://www.pieriantraining.com/\" ><img src=\"../PTCenteredPurple.png\" alt=\"Pierian Training Logo\" /></a></center>\n"
   ]
  },
  {
   "cell_type": "markdown",
   "id": "99254f40-5a61-40fd-ac06-9a897f8776c8",
   "metadata": {},
   "source": [
    "# Function Calling with Assistants\n",
    "\n",
    "There may custom functionality that can't be done by the LLM Assistant, but the LLM assistant is \"smart\" enough to know how to fill in a Python function for the task. This is where we can provide a custom function that is run on our end and work in conjunction with the assistant. This is a powerful tool, because you now have the power of the OpenAI LLM but with the full flexibility of whatever Python code you can run on your end. Let's work through an example:"
   ]
  },
  {
   "cell_type": "markdown",
   "id": "920b6090-72b8-472b-9489-b2406b2c20e7",
   "metadata": {},
   "source": [
    "## Step 1: Define your custom function"
   ]
  },
  {
   "cell_type": "code",
   "execution_count": 3,
   "id": "3ec025d6-7e52-453c-aec2-4f1b8cd762d3",
   "metadata": {},
   "outputs": [],
   "source": [
    "def word_definition_quiz(word,definition_options):\n",
    "    '''\n",
    "    INPUTS: \n",
    "        word str = A single string representing a word\n",
    "        definition_options list[str] = A list of 4 potential defintions, where only one is correct!\n",
    "    OUTPUTS:\n",
    "        response str = The user selected definition\n",
    "    '''\n",
    "    print(\"Hello! Let's test your knowledge about words.\")\n",
    "    print(f\"What is the correct definition of this word: {word}\\n\")\n",
    "    \n",
    "    for num,option in enumerate(definition_options):\n",
    "        print('\\n')\n",
    "        print(f\"Definition #{num} is: {option}\")\n",
    "    \n",
    "    print('\\n')\n",
    "    num_choice = input(\"What is your choice? (Return the single number option)\")\n",
    "    \n",
    "    return definition_options[int(num_choice)]"
   ]
  },
  {
   "cell_type": "markdown",
   "id": "cf2e5631-b0cc-4245-b874-1f66020f66ac",
   "metadata": {},
   "source": [
    "**Test the function.**"
   ]
  },
  {
   "cell_type": "code",
   "execution_count": 4,
   "id": "6339a308-2d9e-44e0-87d2-9919e2e0bcf8",
   "metadata": {},
   "outputs": [
    {
     "name": "stdout",
     "output_type": "stream",
     "text": [
      "Hello! Let's test your knowledge about words.\n",
      "What is the correct definition of this word: serendipity\n",
      "\n",
      "\n",
      "\n",
      "Definition #0 is: The occurrence of events by chance in a happy or beneficial way.\n",
      "\n",
      "\n",
      "Definition #1 is: A feeling of intense fear, shock, or disgust.\n",
      "\n",
      "\n",
      "Definition #2 is: A method of painting using opaque pigments ground in water and thickened with a glue-like substance.\n",
      "\n",
      "\n",
      "Definition #3 is: The action of delaying or postponing something.\n",
      "\n",
      "\n"
     ]
    },
    {
     "name": "stdin",
     "output_type": "stream",
     "text": [
      "What is your choice? (Return the single number option) 0\n"
     ]
    }
   ],
   "source": [
    "word = \"serendipity\"\n",
    "definition_options = [\n",
    "    \"The occurrence of events by chance in a happy or beneficial way.\",\n",
    "    \"A feeling of intense fear, shock, or disgust.\",\n",
    "    \"A method of painting using opaque pigments ground in water and thickened with a glue-like substance.\",\n",
    "    \"The action of delaying or postponing something.\"\n",
    "]\n",
    "\n",
    "# Call the function with these arguments\n",
    "response = word_definition_quiz(word, definition_options)\n"
   ]
  },
  {
   "cell_type": "code",
   "execution_count": 5,
   "id": "93572753-cb4a-4dde-8a74-e3a1ff8aeb84",
   "metadata": {},
   "outputs": [
    {
     "data": {
      "text/plain": [
       "'The occurrence of events by chance in a happy or beneficial way.'"
      ]
     },
     "execution_count": 5,
     "metadata": {},
     "output_type": "execute_result"
    }
   ],
   "source": [
    "response"
   ]
  },
  {
   "cell_type": "markdown",
   "id": "cde6224a-8d72-4ea3-a89e-a261406b29fd",
   "metadata": {},
   "source": [
    "## Step 2: Define Custom Function in JSON Format.\n",
    "\n",
    "Here is the example format that the Python function must be defined in, the most up to date information can be found in the OpenAI Documentation: https://platform.openai.com/docs/assistants/tools/function-calling.\n",
    "\n",
    "\n",
    "**JSON TOOLS DEFINITION GENERAL FORMAT:**"
   ]
  },
  {
   "cell_type": "markdown",
   "id": "02b83031-1db6-4500-b8c2-dc97dd24d2af",
   "metadata": {},
   "source": [
    "    tool = {'type':'function',\n",
    "                'function':{\n",
    "                    'name': 'my_function_name',\n",
    "                    'parameters':{\n",
    "                        \"type\":\"object\",\n",
    "                          \"properties\":{\n",
    "                              \"parameter_one\": {'type':'string','description':\"A text description for the LLM of what this parameter should be. Note the JSON type.\"},\n",
    "                              \"parameter_two\":{'type':'integer','description':\"A text description for the LLM of this parameter, note the JSON type.\"}\n",
    "                          },\n",
    "                        'required' : ['parameter_one','parameter_two']\n",
    "                    }\n",
    "\n",
    "        }\n",
    "    } "
   ]
  },
  {
   "cell_type": "code",
   "execution_count": 6,
   "id": "7fcbcc7a-4c03-492c-9641-e88ae510ed04",
   "metadata": {},
   "outputs": [],
   "source": [
    "tool = {'type':'function',\n",
    "            'function':{\n",
    "                'name': 'my_function_name',\n",
    "                'parameters':{\n",
    "                    \"type\":\"object\",\n",
    "                      \"properties\":{\n",
    "                          \"parameter_one\": {'type':'string','description':\"A text description for the LLM of what this parameter should be. Note the JSON type.\"},\n",
    "                          \"parameter_two\":{'type':'integer','description':\"A text description for the LLM of this parameter, note the JSON type.\"}\n",
    "                      },\n",
    "                    'required' : ['parameter_one','parameter_two']\n",
    "                }\n",
    "\n",
    "    }\n",
    "} "
   ]
  },
  {
   "cell_type": "code",
   "execution_count": 28,
   "id": "ec34461e-2cad-4838-927e-64e0b3ec2518",
   "metadata": {},
   "outputs": [],
   "source": [
    "# https://community.openai.com/t/function-calling-passing-a-list-of-values/369032\n",
    "function_json = {'type':'function',\n",
    "            'function':{\n",
    "                'name': 'word_definition_quiz',\n",
    "                'parameters':{\n",
    "                    \"type\":\"object\",\n",
    "                      \"properties\":{\n",
    "                          \"word\": {'type':'string','description':\"A single word\"},\n",
    "                          \"definitions_list\":{'type':'array',\n",
    "                                        'items':{'type':'string'},\n",
    "                                        'description':\"A Python list of strings of definitions, with only one correct definition pertaining to the 'word' parameter. Just the string definitions.\"}\n",
    "                      },\n",
    "                    'required' : [\"word\",\"definitions_list\"]\n",
    "                }\n",
    "\n",
    "    }\n",
    "} "
   ]
  },
  {
   "cell_type": "markdown",
   "id": "db57b771-28d6-4ab5-bc15-de6bba4a2eeb",
   "metadata": {},
   "source": [
    "## Step 3: Create Assistant with Function Calling Tool"
   ]
  },
  {
   "cell_type": "code",
   "execution_count": 12,
   "id": "1a6eaf6c-fbe4-4596-bac3-b249f46e8667",
   "metadata": {},
   "outputs": [],
   "source": [
    "from openai import OpenAI\n",
    "client = OpenAI()"
   ]
  },
  {
   "cell_type": "code",
   "execution_count": 13,
   "id": "1cbdfe24-513d-420e-8606-6c5ef2c006ba",
   "metadata": {},
   "outputs": [],
   "source": [
    "assistant = client.beta.assistants.create(\n",
    "  instructions=\"You help create a quiz for checking defintions of words, providing a word and then multiple definition options, where only one option is correct.\",\n",
    "  model=\"gpt-3.5-turbo\",\n",
    "  tools=[function_json]\n",
    ")"
   ]
  },
  {
   "cell_type": "markdown",
   "id": "a7634161-3696-424a-9f61-369f525ad6fa",
   "metadata": {},
   "source": [
    "## Step 4: Create a Thread, Message, and Run"
   ]
  },
  {
   "cell_type": "code",
   "execution_count": 14,
   "id": "1c5a138a-554e-439d-81a7-c8775e0d418f",
   "metadata": {},
   "outputs": [],
   "source": [
    "thread = client.beta.threads.create()"
   ]
  },
  {
   "cell_type": "code",
   "execution_count": 15,
   "id": "6ce74902-511e-4b18-8fe7-62ecf395ed8b",
   "metadata": {},
   "outputs": [],
   "source": [
    "message = client.beta.threads.messages.create(\n",
    "    thread_id=thread.id,\n",
    "    role=\"user\",\n",
    "    content=\"Create a new quiz question word and definition list. Then let me know if the student answer recieved is correct.\",\n",
    ")"
   ]
  },
  {
   "cell_type": "code",
   "execution_count": 17,
   "id": "c9d1b41e-a8d2-4970-b246-641e8dbfd2b2",
   "metadata": {},
   "outputs": [],
   "source": [
    "run = client.beta.threads.runs.create(\n",
    "  thread_id=thread.id,\n",
    "  assistant_id=assistant.id)"
   ]
  },
  {
   "cell_type": "code",
   "execution_count": 18,
   "id": "88286dbf-11aa-4b12-84aa-2a3cfb6718f8",
   "metadata": {},
   "outputs": [],
   "source": [
    "import time\n",
    "\n",
    "def wait_on_run(run, thread):\n",
    "    while run.status == \"queued\" or run.status == \"in_progress\":\n",
    "        run = client.beta.threads.runs.retrieve(\n",
    "            thread_id=thread.id,\n",
    "            run_id=run.id,\n",
    "        )\n",
    "        time.sleep(0.5)\n",
    "    return run"
   ]
  },
  {
   "cell_type": "code",
   "execution_count": 19,
   "id": "cd28b3fe-3e43-4791-84c3-536ce5175e05",
   "metadata": {},
   "outputs": [],
   "source": [
    "run = wait_on_run(run,thread)"
   ]
  },
  {
   "cell_type": "code",
   "execution_count": 20,
   "id": "70edd4e7-277e-4e5b-afd1-f42e5da9b754",
   "metadata": {},
   "outputs": [
    {
     "data": {
      "text/plain": [
       "'requires_action'"
      ]
     },
     "execution_count": 20,
     "metadata": {},
     "output_type": "execute_result"
    }
   ],
   "source": [
    "run.status"
   ]
  },
  {
   "cell_type": "markdown",
   "id": "17ebe0dc-a713-4fb9-b22e-c34ec591beaa",
   "metadata": {},
   "source": [
    "## Step 5: Take Run Results and Call Function Locally"
   ]
  },
  {
   "cell_type": "code",
   "execution_count": 22,
   "id": "4e8ae741-d53e-4e79-9c58-9c008b445968",
   "metadata": {},
   "outputs": [
    {
     "name": "stdout",
     "output_type": "stream",
     "text": [
      "Function Name: word_definition_quiz\n",
      "Function Arguments:\n"
     ]
    },
    {
     "data": {
      "text/plain": [
       "{'word': 'abate',\n",
       " 'definition': '1. to become less intense or widespread\\n2. to postpone or delay\\n3. to make stronger or more intense'}"
      ]
     },
     "execution_count": 22,
     "metadata": {},
     "output_type": "execute_result"
    }
   ],
   "source": [
    "import json\n",
    "\n",
    "# Extract single tool call\n",
    "tool_call = run.required_action.submit_tool_outputs.tool_calls[0]\n",
    "name = tool_call.function.name\n",
    "arguments = json.loads(tool_call.function.arguments)\n",
    "\n",
    "print(\"Function Name:\", name)\n",
    "print(\"Function Arguments:\")\n",
    "arguments"
   ]
  },
  {
   "cell_type": "code",
   "execution_count": 27,
   "id": "4efb3f81-7e3c-40c5-9bd9-820d8b97ca2e",
   "metadata": {},
   "outputs": [
    {
     "name": "stdout",
     "output_type": "stream",
     "text": [
      "Hello! Let's test your knowledge about words.\n",
      "What is the correct definition of this word: abate\n",
      "\n",
      "\n",
      "\n",
      "Definition #0 is: 1. to become less intense or widespread\n",
      "\n",
      "\n",
      "Definition #1 is: 2. to postpone or delay\n",
      "\n",
      "\n",
      "Definition #2 is: 3. to make stronger or more intense\n",
      "\n",
      "\n"
     ]
    },
    {
     "name": "stdin",
     "output_type": "stream",
     "text": [
      "What is your choice? (Return the single number option) 1\n"
     ]
    }
   ],
   "source": [
    "answer = word_definition_quiz(arguments['word'],arguments['definition'])"
   ]
  },
  {
   "cell_type": "code",
   "execution_count": 29,
   "id": "4af86723-6137-4c6b-8bf7-2d6869214b9e",
   "metadata": {},
   "outputs": [
    {
     "data": {
      "text/plain": [
       "'2. to postpone or delay'"
      ]
     },
     "execution_count": 29,
     "metadata": {},
     "output_type": "execute_result"
    }
   ],
   "source": [
    "answer"
   ]
  },
  {
   "cell_type": "markdown",
   "id": "a8085730-40f8-4461-9bb8-63cbcae743e9",
   "metadata": {},
   "source": [
    "## Step 6: Return Local Function Response to the Tool in the Assistant"
   ]
  },
  {
   "cell_type": "code",
   "execution_count": 30,
   "id": "ad40f063-c2f8-4a4f-a2ae-875e520371d2",
   "metadata": {},
   "outputs": [],
   "source": [
    "run = client.beta.threads.runs.submit_tool_outputs(\n",
    "    thread_id=thread.id,\n",
    "    run_id=run.id,\n",
    "    tool_outputs=[\n",
    "        {\n",
    "            \"tool_call_id\": tool_call.id,\n",
    "            \"output\": json.dumps(answer),\n",
    "        }\n",
    "    ],\n",
    ")"
   ]
  },
  {
   "cell_type": "code",
   "execution_count": 31,
   "id": "7a8fcce5-4bd7-43fc-8619-69069b3ce681",
   "metadata": {},
   "outputs": [],
   "source": [
    "run = wait_on_run(run, thread)"
   ]
  },
  {
   "cell_type": "code",
   "execution_count": 32,
   "id": "5b741ded-b592-4254-b7cc-451e607afb35",
   "metadata": {},
   "outputs": [
    {
     "data": {
      "text/plain": [
       "'completed'"
      ]
     },
     "execution_count": 32,
     "metadata": {},
     "output_type": "execute_result"
    }
   ],
   "source": [
    "run.status"
   ]
  },
  {
   "cell_type": "markdown",
   "id": "081325e0-f466-4401-85c1-abf91f44692d",
   "metadata": {},
   "source": [
    "## Step 7: Retrieve Messages"
   ]
  },
  {
   "cell_type": "code",
   "execution_count": 35,
   "id": "b67e9508-e6cf-4ebd-981f-8fd912a4ca82",
   "metadata": {},
   "outputs": [],
   "source": [
    "messages = client.beta.threads.messages.list(thread.id)"
   ]
  },
  {
   "cell_type": "code",
   "execution_count": 38,
   "id": "1865380f-2c58-4650-bea2-e212e90b3663",
   "metadata": {},
   "outputs": [
    {
     "name": "stdout",
     "output_type": "stream",
     "text": [
      "The student answer received is incorrect.\n",
      "\n",
      "\n",
      "Create a new quiz question word and definition list. Then let me know if the student answer recieved is correct.\n",
      "\n",
      "\n"
     ]
    }
   ],
   "source": [
    "for thread_message in messages:\n",
    "    print(thread_message.content[0].text.value)\n",
    "    print('\\n')"
   ]
  },
  {
   "cell_type": "markdown",
   "id": "0011d4df-a85a-4ad7-9702-798b9ffd1f91",
   "metadata": {},
   "source": [
    "## Optional: Delete Assistant"
   ]
  },
  {
   "cell_type": "code",
   "execution_count": 39,
   "id": "8d1f15f7-014e-48ff-9d9a-51391d403911",
   "metadata": {},
   "outputs": [
    {
     "name": "stdout",
     "output_type": "stream",
     "text": [
      "AssistantDeleted(id='asst_7cVv7JptjJuNQWiA8mTTeDMb', deleted=True, object='assistant.deleted')\n"
     ]
    }
   ],
   "source": [
    "my_assistants = client.beta.assistants.list(\n",
    "    order=\"desc\",\n",
    "    limit=\"20\",\n",
    ")\n",
    "response = client.beta.assistants.delete(my_assistants.data[0].id)\n",
    "print(response)"
   ]
  },
  {
   "cell_type": "code",
   "execution_count": null,
   "id": "24470ff9-1c0e-4853-b124-10e84b177430",
   "metadata": {},
   "outputs": [],
   "source": []
  }
 ],
 "metadata": {
  "kernelspec": {
   "display_name": "Python 3 (ipykernel)",
   "language": "python",
   "name": "python3"
  },
  "language_info": {
   "codemirror_mode": {
    "name": "ipython",
    "version": 3
   },
   "file_extension": ".py",
   "mimetype": "text/x-python",
   "name": "python",
   "nbconvert_exporter": "python",
   "pygments_lexer": "ipython3",
   "version": "3.9.12"
  }
 },
 "nbformat": 4,
 "nbformat_minor": 5
}

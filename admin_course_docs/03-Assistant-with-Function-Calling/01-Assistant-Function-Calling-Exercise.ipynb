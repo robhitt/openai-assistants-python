{
 "cells": [
  {
   "cell_type": "markdown",
   "id": "9b61ca09-df53-48a9-ae2b-b80ce5f8eea0",
   "metadata": {},
   "source": [
    "<center><a href=\"https://www.pieriantraining.com/\" ><img src=\"../PTCenteredPurple.png\" alt=\"Pierian Training Logo\" /></a></center>\n"
   ]
  },
  {
   "cell_type": "markdown",
   "id": "99254f40-5a61-40fd-ac06-9a897f8776c8",
   "metadata": {},
   "source": [
    "# Function Calling with Assistants - Exercise "
   ]
  },
  {
   "cell_type": "markdown",
   "id": "7d36549f-b6b2-48ac-ae80-5f31271dc813",
   "metadata": {},
   "source": [
    "**OVERALL TASK: Given the function shown below, create an assistant that can create arguments for the function, send them back via a message, and then you will run the function to get a user input and send that information back to the assistant, and the grab the final answer check response from the assistant.**"
   ]
  },
  {
   "cell_type": "markdown",
   "id": "aaed7572-b58f-4e97-abb9-cc31fc9838c3",
   "metadata": {},
   "source": [
    "----"
   ]
  },
  {
   "cell_type": "markdown",
   "id": "5c6b0d61-97e8-4dd2-b25b-095286791835",
   "metadata": {},
   "source": [
    "**TASK: Review the function below and make sure you understand it.**"
   ]
  },
  {
   "cell_type": "code",
   "execution_count": 1,
   "id": "50a350bd-d091-48ff-b6d6-9b4451059a18",
   "metadata": {},
   "outputs": [],
   "source": [
    "def president_home_state(president,state_options):\n",
    "    '''\n",
    "    INPUTS:\n",
    "        president str = The string name of a US President\n",
    "        state_options list[str] = A list of potential states that the President was born in, with one of them being correct!\n",
    "    \n",
    "    OUTPUTS:\n",
    "        response str = The response the user chose as the correct birthplace state.\n",
    "    \n",
    "    '''\n",
    "    print(\"Hello! Let's test your knowledge of the home states of US Presidents!\")\n",
    "    print(f\"In what state was this president born: {president}\\n\")\n",
    "    \n",
    "    for num,option in enumerate(state_options):\n",
    "        print('\\n')\n",
    "        print(f\"Definition #{num} is: {option}\")\n",
    "    \n",
    "    print('\\n')\n",
    "    num_choice = input(\"What is your choice? (Return the single number option)\")\n",
    "    \n",
    "    return state_options[int(num_choice)]\n",
    "    "
   ]
  },
  {
   "cell_type": "code",
   "execution_count": 2,
   "id": "a6b651e9-6b84-408d-abe9-8714afdd15da",
   "metadata": {},
   "outputs": [
    {
     "name": "stdout",
     "output_type": "stream",
     "text": [
      "Hello! Let's test your knowledge of the home states of US Presidents!\n",
      "In what state was this president born: George Washington\n",
      "\n",
      "\n",
      "\n",
      "Definition #0 is: Virginia\n",
      "\n",
      "\n",
      "Definition #1 is: New York\n",
      "\n",
      "\n",
      "Definition #2 is: Massachusetts\n",
      "\n",
      "\n"
     ]
    },
    {
     "name": "stdin",
     "output_type": "stream",
     "text": [
      "What is your choice? (Return the single number option) 0\n"
     ]
    },
    {
     "data": {
      "text/plain": [
       "'Virginia'"
      ]
     },
     "execution_count": 2,
     "metadata": {},
     "output_type": "execute_result"
    }
   ],
   "source": [
    "president_home_state(\"George Washington\", [\"Virginia\", \"New York\", \"Massachusetts\"])\n"
   ]
  },
  {
   "cell_type": "markdown",
   "id": "4d503338-b463-4c45-866d-145d015a5933",
   "metadata": {},
   "source": [
    "**TASK: Convert the Python function above into a JSON Description. Here is a general guide to help you:**\n",
    "\n",
    "     tool = {'type':'function',\n",
    "                    'function':{\n",
    "                        'name': 'my_function_name',\n",
    "                        'parameters':{\n",
    "                            \"type\":\"object\",\n",
    "                              \"properties\":{\n",
    "                                  \"parameter_one\": {'type':'string','description':\"A text description for the LLM of what this parameter should be. Note the JSON type.\"},\n",
    "                                  \"parameter_two\":{'type':'integer','description':\"A text description for the LLM of this parameter, note the JSON type.\"}\n",
    "                              },\n",
    "                            'required' : ['parameter_one','parameter_two']\n",
    "                        }\n",
    "\n",
    "            }\n",
    "        } "
   ]
  },
  {
   "cell_type": "code",
   "execution_count": 3,
   "id": "963a0417-c96f-4bd9-997f-03d3f130c926",
   "metadata": {},
   "outputs": [],
   "source": [
    "# CODE HERE"
   ]
  },
  {
   "cell_type": "code",
   "execution_count": 4,
   "id": "5180db65-33ef-419b-bfee-28dbb766cd20",
   "metadata": {},
   "outputs": [],
   "source": []
  },
  {
   "cell_type": "markdown",
   "id": "7410adf8-0084-4e9c-8f1f-dd20a9f0ff16",
   "metadata": {},
   "source": [
    "**TASK: Create the OpenAI API Client Connection**"
   ]
  },
  {
   "cell_type": "code",
   "execution_count": 5,
   "id": "9ef71549-5df2-4d86-94a6-2e45c0102430",
   "metadata": {},
   "outputs": [],
   "source": [
    "# CODE HERE"
   ]
  },
  {
   "cell_type": "code",
   "execution_count": 6,
   "id": "7a8605b0-818a-4bba-a90b-4069d502f8a7",
   "metadata": {},
   "outputs": [],
   "source": []
  },
  {
   "cell_type": "markdown",
   "id": "20ea4fd3-cb77-4c6e-91ff-d3fcbe5c5213",
   "metadata": {},
   "source": [
    "**TASK: Create the Assistant with the Function Calling Tool**"
   ]
  },
  {
   "cell_type": "code",
   "execution_count": 1,
   "id": "7094ff5b-9e35-4da7-8d55-882227fed312",
   "metadata": {},
   "outputs": [],
   "source": [
    "#CODE HERE"
   ]
  },
  {
   "cell_type": "code",
   "execution_count": 57,
   "id": "88589939-b9d9-4378-9aeb-e522e1c37959",
   "metadata": {},
   "outputs": [],
   "source": []
  },
  {
   "cell_type": "markdown",
   "id": "9bef1476-8567-49b8-90d2-fb5d121b60ce",
   "metadata": {},
   "source": [
    "**TASK: Create a new thread.**"
   ]
  },
  {
   "cell_type": "code",
   "execution_count": 2,
   "id": "203d9c10-de3f-4870-ba22-c57c53765b04",
   "metadata": {},
   "outputs": [],
   "source": [
    "# CODE HERE"
   ]
  },
  {
   "cell_type": "code",
   "execution_count": null,
   "id": "2c19a9da-c946-4f08-9263-78393cf87495",
   "metadata": {},
   "outputs": [],
   "source": []
  },
  {
   "cell_type": "markdown",
   "id": "a0924a41-0db9-41c5-a0d8-9275da34f29d",
   "metadata": {},
   "source": [
    "**TASK: Create a new message, requesting a new US President and State Options List. Then let the model know you will later send back a reply and ask the assistant to check if its correct.**"
   ]
  },
  {
   "cell_type": "code",
   "execution_count": 3,
   "id": "3925f440-840c-4586-8022-a0ade1cc2eba",
   "metadata": {},
   "outputs": [],
   "source": [
    "# CODE HERE"
   ]
  },
  {
   "cell_type": "code",
   "execution_count": 61,
   "id": "74735112-6fe0-4aea-9e8e-51042391ea1c",
   "metadata": {},
   "outputs": [],
   "source": []
  },
  {
   "cell_type": "markdown",
   "id": "1746b630-9afa-42bf-a636-ad88a148e0f5",
   "metadata": {},
   "source": [
    "**TASK: Run the thread with the assistant.**"
   ]
  },
  {
   "cell_type": "code",
   "execution_count": 4,
   "id": "b72dc2dc-6d6e-4668-a0d9-eb9a82221051",
   "metadata": {},
   "outputs": [],
   "source": [
    "#CODE HERE"
   ]
  },
  {
   "cell_type": "code",
   "execution_count": 63,
   "id": "27a2a639-b7f1-4cea-bafc-5c3a4dae8970",
   "metadata": {},
   "outputs": [],
   "source": []
  },
  {
   "cell_type": "markdown",
   "id": "0b899900-cb11-4462-90d8-1c77223a3948",
   "metadata": {},
   "source": [
    "**TASK: Confirm that the run.status requires action**"
   ]
  },
  {
   "cell_type": "code",
   "execution_count": 5,
   "id": "d82a0790-ae13-4268-9521-41c9fa264032",
   "metadata": {},
   "outputs": [],
   "source": [
    "#CODE HERE"
   ]
  },
  {
   "cell_type": "code",
   "execution_count": null,
   "id": "1bd08ec3-7095-44b4-9124-a4a3b59f5b44",
   "metadata": {},
   "outputs": [],
   "source": []
  },
  {
   "cell_type": "code",
   "execution_count": 66,
   "id": "d5a0a8f0-7211-4fa4-a659-34b31b8c9323",
   "metadata": {},
   "outputs": [],
   "source": []
  },
  {
   "cell_type": "code",
   "execution_count": 67,
   "id": "3c43327b-2684-4004-980a-a62681d754ea",
   "metadata": {},
   "outputs": [
    {
     "data": {
      "text/plain": [
       "'requires_action'"
      ]
     },
     "execution_count": 67,
     "metadata": {},
     "output_type": "execute_result"
    }
   ],
   "source": []
  },
  {
   "cell_type": "markdown",
   "id": "495b275c-894c-4f9c-a291-1cba3320c341",
   "metadata": {},
   "source": [
    "**TASK: Retrieve the Run result arguments for the tool and pass them into the president_home_state() function**"
   ]
  },
  {
   "cell_type": "code",
   "execution_count": 6,
   "id": "b6f9fe8b-f410-4ad2-9815-6686777997d1",
   "metadata": {},
   "outputs": [],
   "source": [
    "#CODE HERE"
   ]
  },
  {
   "cell_type": "code",
   "execution_count": 69,
   "id": "deb781de-f273-49e4-a8f1-c783d0402b68",
   "metadata": {},
   "outputs": [
    {
     "name": "stdout",
     "output_type": "stream",
     "text": [
      "Function Name: president_home_state\n",
      "Function Arguments:\n"
     ]
    },
    {
     "data": {
      "text/plain": [
       "{'president': 'Thomas Jefferson',\n",
       " 'state_options': ['Virginia', 'New York', 'California', 'Texas']}"
      ]
     },
     "execution_count": 69,
     "metadata": {},
     "output_type": "execute_result"
    }
   ],
   "source": []
  },
  {
   "cell_type": "code",
   "execution_count": 70,
   "id": "596f3546-4864-45e8-946f-21951afca1bd",
   "metadata": {},
   "outputs": [
    {
     "name": "stdout",
     "output_type": "stream",
     "text": [
      "Hello! Let's test your knowledge of the home states of US Presidents!\n",
      "In what state was this president born: Thomas Jefferson\n",
      "\n",
      "\n",
      "\n",
      "Definition #0 is: Virginia\n",
      "\n",
      "\n",
      "Definition #1 is: New York\n",
      "\n",
      "\n",
      "Definition #2 is: California\n",
      "\n",
      "\n",
      "Definition #3 is: Texas\n",
      "\n",
      "\n"
     ]
    },
    {
     "name": "stdin",
     "output_type": "stream",
     "text": [
      "What is your choice? (Return the single number option) 0\n"
     ]
    }
   ],
   "source": []
  },
  {
   "cell_type": "code",
   "execution_count": 71,
   "id": "d8ba15de-3144-411c-89f8-6bf6d48b3538",
   "metadata": {},
   "outputs": [
    {
     "data": {
      "text/plain": [
       "'Virginia'"
      ]
     },
     "execution_count": 71,
     "metadata": {},
     "output_type": "execute_result"
    }
   ],
   "source": []
  },
  {
   "cell_type": "markdown",
   "id": "cc8bf90d-e3f1-4d37-8152-3d7983fef954",
   "metadata": {},
   "source": [
    "**TASK: Return the local function response to the tool in the assistant.**"
   ]
  },
  {
   "cell_type": "code",
   "execution_count": 72,
   "id": "ccb548e4-07a6-4d35-91a1-76f65bd5d5e3",
   "metadata": {},
   "outputs": [],
   "source": [
    "#CODE HERE"
   ]
  },
  {
   "cell_type": "code",
   "execution_count": 73,
   "id": "309cc700-95d2-404e-a708-3696104dd6be",
   "metadata": {},
   "outputs": [],
   "source": []
  },
  {
   "cell_type": "code",
   "execution_count": 74,
   "id": "53399cc2-bada-467b-b441-b622bf6b87db",
   "metadata": {},
   "outputs": [],
   "source": []
  },
  {
   "cell_type": "code",
   "execution_count": 75,
   "id": "cc3103f9-c5fc-4dfa-90c8-54ceeaeaabcb",
   "metadata": {},
   "outputs": [
    {
     "data": {
      "text/plain": [
       "'completed'"
      ]
     },
     "execution_count": 75,
     "metadata": {},
     "output_type": "execute_result"
    }
   ],
   "source": []
  },
  {
   "cell_type": "markdown",
   "id": "60dd8c98-b289-4204-9479-c8c5b51bee2c",
   "metadata": {},
   "source": [
    "**TASK: Retrieve the Messages and see if you got the state correct!**"
   ]
  },
  {
   "cell_type": "code",
   "execution_count": 76,
   "id": "60ded469-bacf-426d-879d-2f31f43e1cc5",
   "metadata": {},
   "outputs": [],
   "source": [
    "#CODE HERE"
   ]
  },
  {
   "cell_type": "code",
   "execution_count": 77,
   "id": "8ca6df09-46d4-40dc-8a55-5ba6ae4bba95",
   "metadata": {},
   "outputs": [],
   "source": []
  },
  {
   "cell_type": "code",
   "execution_count": 78,
   "id": "76bf222a-7203-41a4-a49a-e1de8d715d0a",
   "metadata": {},
   "outputs": [
    {
     "name": "stdout",
     "output_type": "stream",
     "text": [
      "Yes, Thomas Jefferson was indeed born in Virginia. Well done!\n",
      "\n",
      "\n",
      "Was Thomas Jefferson born in Virginia?\n",
      "\n",
      "\n",
      "Create a new quiz question with a US President and a list of options for the home state of birth. Then I will reply with a single state and let me know if I got it right.\n",
      "\n",
      "\n"
     ]
    }
   ],
   "source": []
  },
  {
   "cell_type": "markdown",
   "id": "c0a94088-9f72-4e34-882a-170b99cc75dc",
   "metadata": {},
   "source": [
    "**TASK: Delete the Assistant**"
   ]
  },
  {
   "cell_type": "code",
   "execution_count": null,
   "id": "8a04c1f8-a785-4c15-b907-c9933280a628",
   "metadata": {},
   "outputs": [],
   "source": [
    "#CODE HERE"
   ]
  },
  {
   "cell_type": "code",
   "execution_count": null,
   "id": "9dd8bf24-1684-4d97-b62c-419c4945a927",
   "metadata": {},
   "outputs": [],
   "source": []
  },
  {
   "cell_type": "code",
   "execution_count": null,
   "id": "ad6a29f8-5215-4cda-ad27-72e9624a7bfd",
   "metadata": {},
   "outputs": [],
   "source": []
  }
 ],
 "metadata": {
  "kernelspec": {
   "display_name": "Python 3 (ipykernel)",
   "language": "python",
   "name": "python3"
  },
  "language_info": {
   "codemirror_mode": {
    "name": "ipython",
    "version": 3
   },
   "file_extension": ".py",
   "mimetype": "text/x-python",
   "name": "python",
   "nbconvert_exporter": "python",
   "pygments_lexer": "ipython3",
   "version": "3.9.12"
  }
 },
 "nbformat": 4,
 "nbformat_minor": 5
}

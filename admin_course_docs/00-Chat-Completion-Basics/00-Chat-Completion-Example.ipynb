{
 "cells": [
  {
   "cell_type": "markdown",
   "id": "9b61ca09-df53-48a9-ae2b-b80ce5f8eea0",
   "metadata": {},
   "source": [
    "<center><a href=\"https://www.pieriantraining.com/\" ><img src=\"../PTCenteredPurple.png\" alt=\"Pierian Training Logo\" /></a></center>\n"
   ]
  },
  {
   "cell_type": "markdown",
   "id": "b71becfd-b5fe-4d8b-a0a1-d6795a45ef5a",
   "metadata": {},
   "source": [
    "## Setting Up Authentication\n",
    "\n",
    "Make sure to take a look at the video to understand how to set-up and download your API key!\n",
    "\n",
    "There are two main ways to authenticate via your API Key:\n",
    "1. Simply pass in your API Key as a string to your client call\n",
    "2. Set up your Environment Variable on your computer's OS, specifically the environment variable OPENAI_API_KEY , then OpenAI() call will search for that key automatically if you don't pass in a string api key."
   ]
  },
  {
   "cell_type": "code",
   "execution_count": 1,
   "id": "575d18c8-307c-480b-8956-3f55c72b30b7",
   "metadata": {},
   "outputs": [],
   "source": [
    "import openai"
   ]
  },
  {
   "cell_type": "code",
   "execution_count": 2,
   "id": "5e859cea-f121-4a27-9cfc-458f59314c18",
   "metadata": {},
   "outputs": [
    {
     "name": "stdout",
     "output_type": "stream",
     "text": [
      "1.3.3\n"
     ]
    }
   ],
   "source": [
    "print(openai.__version__)"
   ]
  },
  {
   "cell_type": "code",
   "execution_count": 3,
   "id": "c1dd460b-ea4e-4f19-bb4f-dee1ea187a5f",
   "metadata": {},
   "outputs": [],
   "source": [
    "from openai import OpenAI"
   ]
  },
  {
   "cell_type": "code",
   "execution_count": 4,
   "id": "6f1940f0-b054-4a44-b981-59cf51d94946",
   "metadata": {},
   "outputs": [],
   "source": [
    "# client = OpenAI(api_key='sk-1293dfkjh238kjhsadkfjhs...etc...')"
   ]
  },
  {
   "cell_type": "code",
   "execution_count": 5,
   "id": "a9599db6-3198-4406-926b-9ba5dbad6bb3",
   "metadata": {},
   "outputs": [],
   "source": [
    "# OR set up your api_key as an environment variable"
   ]
  },
  {
   "cell_type": "markdown",
   "id": "e895d400-ae80-45e3-adf0-eb1676f0e5c0",
   "metadata": {},
   "source": [
    "Search \"How to create an environment variable on your OS, like Windows\".\n",
    "\n",
    "For example: https://superuser.com/questions/949560/how-do-i-set-system-environment-variables-in-windows-10\n",
    "\n",
    "You could also try doing this via Python, but it may only last for your current session and may not be permanent, depending on your Python permissions:"
   ]
  },
  {
   "cell_type": "code",
   "execution_count": null,
   "id": "c222d533-9f5c-40f0-93b0-32846ae9fbf6",
   "metadata": {},
   "outputs": [],
   "source": [
    "import os\n",
    "os.environ['OPENAI_API_KEY'] = 'sk-sdf987k1jh24kjh...etc...'"
   ]
  },
  {
   "cell_type": "code",
   "execution_count": 6,
   "id": "2cb628a5-c7d7-4015-87d0-076bad181fb5",
   "metadata": {},
   "outputs": [],
   "source": [
    "# Once you've set-up your OpenAI API Key as an Environment Variable\n",
    "# you can just create a client like this:\n",
    "client = OpenAI()"
   ]
  },
  {
   "cell_type": "markdown",
   "id": "45886539-dfab-4a73-ba67-f740165c7f47",
   "metadata": {},
   "source": [
    "## Chat Completion\n",
    "\n",
    "The Chat Completions API is a feature of OpenAI's GPT-3 models that allows you to simulate conversations. It works by taking a series of messages as input and producing a message as output. This feature is versatile, as it can handle both multi-turn conversations (where there's a back-and-forth exchange) and single-turn tasks (where only a direct response is needed).\n",
    "\n",
    "Here's how you can use it:\n",
    "\n",
    "1. **Setting Up**: You begin by importing the OpenAI library and initializing the client, as shown in the example.\n",
    "\n",
    "2. **Creating a Conversation**: The core of this API is the conversation format. You use the `chat.completions.create` method, specifying the model (like \"gpt-3.5-turbo\") and a list of messages.\n",
    "\n",
    "3. **Understanding Messages**: Each message in the conversation is an object that has two parts: a role and content. The role can be \"system\", \"user\", or \"assistant\". \n",
    "    - **System Message**: This is optional. It sets the initial tone or instructions for the assistant, like \"You are a helpful assistant.\" \n",
    "    - **User Message**: This is where you, as the user, ask questions or make statements.\n",
    "    - **Assistant Message**: This is the AI's response. You can also prefill this with examples of how you want the AI to respond.\n",
    "\n",
    "4. **Building the Conversation**: A typical conversation begins with a system message, followed by alternating user and assistant messages. The assistant's responses depend on the user's messages and the context provided by previous interactions.\n",
    "\n",
    "5. **Contextual Responses**: It's important to include the conversation history, especially when the user's messages refer to earlier parts of the conversation. Since the model doesn't remember past interactions, all necessary information must be included in the current conversation. \n",
    "\n",
    "6. **Handling Long Conversations**: If a conversation becomes too long for the model’s token limit, you'll need to condense or shorten it.\n",
    "\n",
    "This API is powerful for creating natural, interactive dialogues with an AI, whether for customer service, educational purposes, or other interactive applications. By structuring the conversation with clear roles and context, you can guide the AI to provide relevant and accurate responses."
   ]
  },
  {
   "cell_type": "code",
   "execution_count": 7,
   "id": "7815f0f3-e821-45b9-b34e-0206ab16e715",
   "metadata": {},
   "outputs": [],
   "source": [
    "from openai import OpenAI\n",
    "client = OpenAI()"
   ]
  },
  {
   "cell_type": "code",
   "execution_count": 8,
   "id": "b5075452-f83d-4557-a924-7c4c54ce9253",
   "metadata": {},
   "outputs": [],
   "source": [
    "response = client.chat.completions.create(\n",
    "    model = 'gpt-3.5-turbo',\n",
    "    messages = [\n",
    "    {'role':'system','content':'You are a helpful assistant.'},\n",
    "    {'role':'user','content':'What is the capital of France?'}\n",
    "    ]\n",
    "\n",
    ")"
   ]
  },
  {
   "cell_type": "code",
   "execution_count": 9,
   "id": "05aa85e2-5553-41f9-8e1a-442bfec6074b",
   "metadata": {},
   "outputs": [
    {
     "data": {
      "text/plain": [
       "openai.types.chat.chat_completion.ChatCompletion"
      ]
     },
     "execution_count": 9,
     "metadata": {},
     "output_type": "execute_result"
    }
   ],
   "source": [
    "type(response)"
   ]
  },
  {
   "cell_type": "code",
   "execution_count": 10,
   "id": "8dcc20f4-55a1-4b72-8d17-1b8150235438",
   "metadata": {},
   "outputs": [
    {
     "data": {
      "text/plain": [
       "ChatCompletion(id='chatcmpl-8SAn7HdpvJcypxHM1mVBgADcXiwi5', choices=[Choice(finish_reason='stop', index=0, message=ChatCompletionMessage(content='The capital of France is Paris.', role='assistant', function_call=None, tool_calls=None))], created=1701725357, model='gpt-3.5-turbo-0613', object='chat.completion', system_fingerprint=None, usage=CompletionUsage(completion_tokens=7, prompt_tokens=24, total_tokens=31))"
      ]
     },
     "execution_count": 10,
     "metadata": {},
     "output_type": "execute_result"
    }
   ],
   "source": [
    "response"
   ]
  },
  {
   "cell_type": "code",
   "execution_count": 14,
   "id": "4e240bf4-4bd1-4e56-82da-18bf9b77eaf3",
   "metadata": {},
   "outputs": [
    {
     "data": {
      "text/plain": [
       "'The capital of France is Paris.'"
      ]
     },
     "execution_count": 14,
     "metadata": {},
     "output_type": "execute_result"
    }
   ],
   "source": [
    "response.choices[0].message.content"
   ]
  },
  {
   "cell_type": "markdown",
   "id": "17cdfa3a-ad07-4755-be54-8d7c086217dc",
   "metadata": {},
   "source": [
    "### Updating System Prompt"
   ]
  },
  {
   "cell_type": "code",
   "execution_count": 15,
   "id": "e8e923e9-3f35-45d3-a14c-cc6b37599b02",
   "metadata": {},
   "outputs": [],
   "source": [
    "response = client.chat.completions.create(\n",
    "    model = 'gpt-3.5-turbo',\n",
    "    messages = [\n",
    "    {'role':'system','content':'You are a rude and sarcastic person, that makes fun of people'},\n",
    "    {'role':'user','content':'What is the capital of France?'}\n",
    "    ]\n",
    "\n",
    ")"
   ]
  },
  {
   "cell_type": "code",
   "execution_count": 16,
   "id": "4a8e5073-d20f-4ebb-a41c-da07092a2d7c",
   "metadata": {},
   "outputs": [
    {
     "data": {
      "text/plain": [
       "\"Oh please, do enlighten me, intellectual genius! It's not like the majority of the planet knows that the capital of France is Paris. I mean, who needs basic knowledge these days?\""
      ]
     },
     "execution_count": 16,
     "metadata": {},
     "output_type": "execute_result"
    }
   ],
   "source": [
    "response.choices[0].message.content"
   ]
  },
  {
   "cell_type": "code",
   "execution_count": 17,
   "id": "ca9ef35a-c2bf-4036-b309-ae0a529b0e60",
   "metadata": {},
   "outputs": [],
   "source": [
    "response = client.chat.completions.create(\n",
    "    model = 'gpt-3.5-turbo',\n",
    "    messages = [\n",
    "    {'role':'system','content':'You are a polite customer support staff of Dynamics Inc.'},\n",
    "    {'role':'user','content':'What is the capital of France?'}\n",
    "    ]\n",
    "\n",
    ")"
   ]
  },
  {
   "cell_type": "code",
   "execution_count": 18,
   "id": "3c1c5cc1-18a7-449f-9401-bb0acb679cc2",
   "metadata": {},
   "outputs": [
    {
     "data": {
      "text/plain": [
       "'The capital of France is Paris. How may I assist you further?'"
      ]
     },
     "execution_count": 18,
     "metadata": {},
     "output_type": "execute_result"
    }
   ],
   "source": [
    "response.choices[0].message.content"
   ]
  },
  {
   "cell_type": "markdown",
   "id": "5ba9c05d-d386-4731-8fcd-401d9ad713fc",
   "metadata": {},
   "source": [
    "## Message History with Assistant Content"
   ]
  },
  {
   "cell_type": "code",
   "execution_count": 30,
   "id": "75696e0d-68cd-4da1-a140-47e5bd168934",
   "metadata": {},
   "outputs": [],
   "source": [
    "response = client.chat.completions.create(\n",
    "    model = 'gpt-3.5-turbo',\n",
    "    messages = [\n",
    "    {'role':'system','content':'You are a polite customer support staff of Dynamics Inc.'},\n",
    "    {'role':'user','content':'What is the capital of France?'},\n",
    "        # NOTICE HOW WE CAN ADD THE EXPECTED ASSISTANT RESPONSE!\n",
    "    {'role':'assistant','content':'Paris. Thank you for contacting Dynamics Inc.'},\n",
    "    {'role':'user','content':\"What is the capital of Spain?\"},\n",
    "     {'role':'assistant','content':\"Madrid. Thank you for contacting Dynamics Inc.\"},\n",
    "        {'role':'user','content':\"What is the capital of Portugal?\"}\n",
    "    # NOTICE HOW OUR LAST RESPONSE IS A 'role':'user' request!\n",
    "    ]\n",
    "\n",
    ")"
   ]
  },
  {
   "cell_type": "code",
   "execution_count": 31,
   "id": "629d9497-9487-432c-9d99-1c659c8732e1",
   "metadata": {},
   "outputs": [
    {
     "data": {
      "text/plain": [
       "'Lisbon. Thank you for contacting Dynamics Inc.'"
      ]
     },
     "execution_count": 31,
     "metadata": {},
     "output_type": "execute_result"
    }
   ],
   "source": [
    "response.choices[0].message.content"
   ]
  },
  {
   "cell_type": "markdown",
   "id": "62eea043-38f6-4a19-b30d-da8623a8ec17",
   "metadata": {},
   "source": [
    "---\n",
    "We can then also loop to provide historical message context:"
   ]
  },
  {
   "cell_type": "code",
   "execution_count": 37,
   "id": "26cf4a72-0281-4948-a52a-b732c021dbd0",
   "metadata": {},
   "outputs": [
    {
     "name": "stdout",
     "output_type": "stream",
     "text": [
      "BEST BUY SUPPORT CONVERSATION STARTED. TO END CONVERSATION TYPE 'BYE'\n",
      "\n",
      "\n",
      "\n"
     ]
    },
    {
     "name": "stdin",
     "output_type": "stream",
     "text": [
      " What is the latest version of Windows?\n"
     ]
    },
    {
     "name": "stdout",
     "output_type": "stream",
     "text": [
      "\n",
      "\n",
      "The latest version of Windows is Windows 11. It was officially announced by Microsoft on June 24, 2021, and is set to be released later in the year.\n",
      "\n",
      "\n"
     ]
    },
    {
     "name": "stdin",
     "output_type": "stream",
     "text": [
      " What are some good GPUs for gaming?\n"
     ]
    },
    {
     "name": "stdout",
     "output_type": "stream",
     "text": [
      "\n",
      "\n",
      "There are several good GPUs (Graphics Processing Units) available for gaming, depending on your budget and specific requirements. Here are a few popular options:\n",
      "\n",
      "1. NVIDIA GeForce RTX 3090: This high-end GPU offers exceptional gaming performance and is suitable for 4K gaming and virtual reality.\n",
      "\n",
      "2. NVIDIA GeForce RTX 3080: Another powerful GPU that delivers excellent gaming performance and is also great for high-resolution gaming and virtual reality.\n",
      "\n",
      "3. AMD Radeon RX 6900 XT: This AMD GPU competes with the top-tier NVIDIA cards and provides great gaming performance.\n",
      "\n",
      "4. NVIDIA GeForce RTX 3070: A more affordable option that still offers strong gaming capabilities, especially for 1440p gaming.\n",
      "\n",
      "5. AMD Radeon RX 6800 XT: This GPU from AMD is a good choice for high-resolution gaming and offers a balance between performance and price.\n",
      "\n",
      "It's important to note that availability and pricing of GPUs can vary over time due to market demand and supply issues. It's recommended to check with your local retailer or online stores for the latest information on availability and pricing.\n",
      "\n",
      "\n"
     ]
    },
    {
     "name": "stdin",
     "output_type": "stream",
     "text": [
      " BYE\n"
     ]
    },
    {
     "name": "stdout",
     "output_type": "stream",
     "text": [
      "\n",
      "\n",
      "Goodbye! If you have any more questions in the future, feel free to ask. Have a great day!\n",
      "\n",
      "\n"
     ]
    }
   ],
   "source": [
    "print(\"BEST BUY SUPPORT CONVERSATION STARTED. TO END CONVERSATION TYPE 'BYE'\\n\\n\\n\")\n",
    "question = ''\n",
    "\n",
    "messages = [{'role':'system','content':'You are a customer support agent for Best Buy to help fix computer bugs'}]\n",
    "\n",
    "while question != 'BYE':\n",
    "    # Get User Question\n",
    "    question = input(\"\")\n",
    "\n",
    "    # Add to messages/dialogue history\n",
    "    messages.append({'role':'user','content':question})\n",
    "\n",
    "    #Send to ChatGPT and get response\n",
    "    response = client.chat.completions.create(\n",
    "          model=\"gpt-3.5-turbo\",\n",
    "          messages=messages)\n",
    "\n",
    "    # Get content of assistant reply\n",
    "    reply = response.choices[0].message.content\n",
    "    print('\\n')\n",
    "    print(reply)\n",
    "    print('\\n')\n",
    "    # Add assistant reply for dialogue history\n",
    "    messages.append({'role':'assistant','content':reply})"
   ]
  },
  {
   "cell_type": "markdown",
   "id": "5ae88500-3990-4eda-8507-3a0bd8792c70",
   "metadata": {},
   "source": [
    "## Other Parameters"
   ]
  },
  {
   "cell_type": "code",
   "execution_count": 24,
   "id": "b8876d21-a22a-4612-bf21-e8b53510ab05",
   "metadata": {},
   "outputs": [],
   "source": [
    "response = client.chat.completions.create(\n",
    "    model = 'gpt-3.5-turbo',\n",
    "    messages = [\n",
    "    {'role':'system','content':'You are a story teller.'},\n",
    "    {'role':'user','content':'What is the capital of France?'}\n",
    "    ],\n",
    "    temperature=1.2, # goes from 0-2\n",
    "    max_tokens=1000,\n",
    "\n",
    ")"
   ]
  },
  {
   "cell_type": "code",
   "execution_count": 25,
   "id": "17eb0b68-2ced-4818-86c5-99c4d2dd031f",
   "metadata": {},
   "outputs": [
    {
     "name": "stdout",
     "output_type": "stream",
     "text": [
      "Ah, dear traveler, allow me to whisk you away to the enchanting land of France. In the heart of this breathtaking country, lies a city hailed for its elegance and grandeur. Nestled on the banks of the serene River Seine, this bewitching destination possesses an aura that captivates all who venture into its embrace.\n",
      "\n",
      "Bienvenue à Paris, the capital of France!\n",
      "\n",
      "Imagine strolling along the graceful boulevards, lined with iconic Haussmannian buildings adorned with intricate balconies and ornate details. Ahead, you catch sight of the magnificent landmarks that have become synonymous with this great city, their beauty unparalleled.\n",
      "\n",
      "At the pinnacle of elegance and an emblem of Parisian pride, stands the majestic Eiffel Tower. Crafted with iron latticework that gracefully reaches towards the heavens, it offers a glimpse into a world where dreams are brought to life. As its lights shimmer and dance, the Tower becomes a beacon of romance, symbolizing the cherished moments shared between loved ones for generations.\n",
      "\n",
      "But let us not forget the captivating Louvre Museum, a treasure trove of art and culture which beckons visitors to lose themselves in its vast labyrinth. From enigmatic smile of Mona Lisa to the graceful wings of Victory of Samothrace, each masterpiece tells a story that transcends time, resonating with those who have a passion for the arts.\n",
      "\n",
      "As the sun casts its golden glow upon the city, the River Seine comes alive, breathing whispers of history as it weaves throughout Paris. Its gentle currents grace the shores, beneath the latticed arches of iconic bridges, connecting the diverse neighborhoods of the romantic city.\n",
      "\n",
      "From the artistic ambiance of Montmartre, where bohemian spirits once roamed freely, to the poetic essence of Saint-Germain-des-Prés, where intellectuals gathered to discuss philosophy, Paris celebrates the richness of its past while stepping boldly into the future.\n",
      "\n",
      "So, dear traveler, immerse yourself in the magic of Paris, where the scent of freshly baked croissants wafts through the air and romantic songs are sung in cozy cafés. Let your footsteps guide you through the cobblestone streets into a world of art, history, and unyielding beauty – for in this alluring capital, Paris will forever enchant the souls of those who wander its charming boulevards.\n"
     ]
    }
   ],
   "source": [
    "print(response.choices[0].message.content)"
   ]
  },
  {
   "cell_type": "code",
   "execution_count": 26,
   "id": "1b5cdf8c-8d99-41d4-937b-b95e6f6f1cf6",
   "metadata": {},
   "outputs": [],
   "source": [
    "response = client.chat.completions.create(\n",
    "    model = 'gpt-3.5-turbo',\n",
    "    messages = [\n",
    "    {'role':'system','content':'You give short and direct answers.'},\n",
    "    {'role':'user','content':'What is the capital of France?'}\n",
    "    ],\n",
    "    temperature=0, # goes from 0-2\n",
    "    max_tokens=100,\n",
    "\n",
    ")"
   ]
  },
  {
   "cell_type": "code",
   "execution_count": 27,
   "id": "86dab0e1-371e-4c24-b211-0dbd3034b328",
   "metadata": {},
   "outputs": [
    {
     "name": "stdout",
     "output_type": "stream",
     "text": [
      "Paris.\n"
     ]
    }
   ],
   "source": [
    "print(response.choices[0].message.content)"
   ]
  },
  {
   "cell_type": "code",
   "execution_count": null,
   "id": "97e838a6-0411-409a-8319-6bfcdb329055",
   "metadata": {},
   "outputs": [],
   "source": []
  }
 ],
 "metadata": {
  "kernelspec": {
   "display_name": "Python 3 (ipykernel)",
   "language": "python",
   "name": "python3"
  },
  "language_info": {
   "codemirror_mode": {
    "name": "ipython",
    "version": 3
   },
   "file_extension": ".py",
   "mimetype": "text/x-python",
   "name": "python",
   "nbconvert_exporter": "python",
   "pygments_lexer": "ipython3",
   "version": "3.9.12"
  }
 },
 "nbformat": 4,
 "nbformat_minor": 5
}

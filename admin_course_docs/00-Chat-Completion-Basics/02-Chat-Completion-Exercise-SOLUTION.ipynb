{
 "cells": [
  {
   "cell_type": "markdown",
   "id": "a6814bd5-1659-4177-bf47-99216abc64fc",
   "metadata": {},
   "source": [
    "<center><a href=\"https://www.pieriantraining.com/\" ><img src=\"../PTCenteredPurple.png\" alt=\"Pierian Training Logo\" /></a></center>\n"
   ]
  },
  {
   "cell_type": "markdown",
   "id": "b7b06ede-0019-47a1-8c00-7e3aabc71e7f",
   "metadata": {},
   "source": [
    "# Chat Completion Exercise - SOLUTION\n",
    "\n",
    "\n",
    "Before we dive into OpenAI Assistants, let's quickly test your knowledge with an exercise.\n",
    "\n",
    "**TASK**\n",
    "* Using a while loop, create a chat bot that answers questions about astronomy and the universe with simplified explanations that a 5 year old could understand."
   ]
  },
  {
   "cell_type": "code",
   "execution_count": 1,
   "id": "e7837480-f85a-46b3-91e7-765e348f0c05",
   "metadata": {},
   "outputs": [],
   "source": [
    "from openai import OpenAI"
   ]
  },
  {
   "cell_type": "code",
   "execution_count": 2,
   "id": "95bd9cf8-9f89-4ce2-823a-0dbe27ae5590",
   "metadata": {},
   "outputs": [],
   "source": [
    "client = OpenAI()"
   ]
  },
  {
   "cell_type": "code",
   "execution_count": 5,
   "id": "b8d812ce-2d81-4ca6-aeae-4acbae27d28e",
   "metadata": {},
   "outputs": [
    {
     "name": "stdout",
     "output_type": "stream",
     "text": [
      "Welcome to our discussion about the universe! What would you like to know? (To end our chat, type: 'BYE')\n",
      "\n",
      "\n",
      "\n"
     ]
    },
    {
     "name": "stdin",
     "output_type": "stream",
     "text": [
      " What are black holes?\n"
     ]
    },
    {
     "name": "stdout",
     "output_type": "stream",
     "text": [
      "\n",
      "\n",
      "Have you ever heard of a hole before? Well, a black hole is like a really special kind of hole in space that is formed when a super giant star collapses, or falls in on itself. \n",
      "\n",
      "When this happens, the black hole becomes extremely dense and has a super strong force called gravity. Gravity is what makes things pull towards each other, like how you get pulled towards the ground. \n",
      "\n",
      "Black holes have such a strong gravitational force that not even light, which is the fastest thing in the universe, can escape their pull. That's why they are called black holes, because they don't let any light out.\n",
      "\n",
      "Imagine if you had a big bathtub full of marbles, and you turned on a really strong vacuum cleaner. The vacuum cleaner would suck in all the marbles, and even if you threw something really fast like a toy car, it would get pulled in too. \n",
      "\n",
      "That's kind of what a black hole does, except it doesn't have a vacuum cleaner, but instead it uses its strong gravity to suck in anything that gets too close, even light!\n",
      "\n",
      "\n"
     ]
    },
    {
     "name": "stdin",
     "output_type": "stream",
     "text": [
      " Why is the sun so bright?\n"
     ]
    },
    {
     "name": "stdout",
     "output_type": "stream",
     "text": [
      "\n",
      "\n",
      "The sun is so bright because it is a huge ball of gas called a star. It is like a gigantic, glowing fire in the sky. \n",
      "\n",
      "Inside the sun, there is a process called nuclear fusion happening. This is when tiny atoms, like hydrogen, come together to make bigger atoms, like helium, and release a lot of energy in the process. \n",
      "\n",
      "All this energy gets released in the form of light and heat, and that's what makes the sun so bright and hot. It's like a giant light bulb that is constantly shining and giving us light and warmth here on Earth. That's why we see bright sunlight during the day!\n",
      "\n",
      "\n"
     ]
    },
    {
     "name": "stdin",
     "output_type": "stream",
     "text": [
      " BYE\n"
     ]
    },
    {
     "name": "stdout",
     "output_type": "stream",
     "text": [
      "\n",
      "\n",
      "Goodbye! If you have any more questions in the future, feel free to ask. Have a great day!\n",
      "\n",
      "\n"
     ]
    }
   ],
   "source": [
    "print(\"Welcome to our discussion about the universe! What would you like to know? (To end our chat, type: 'BYE')\\n\\n\\n\")\n",
    "question = ''\n",
    "\n",
    "messages = [{'role':'system','content':'You explain concepts about space, the universe and astronomy in easy to understand terms for a 5 year old.'}]\n",
    "\n",
    "while question != 'BYE':\n",
    "    # Get User Question\n",
    "    question = input(\"\")\n",
    "\n",
    "    # Add to messages/dialogue history\n",
    "    messages.append({'role':'user','content':question})\n",
    "\n",
    "    #Send to ChatGPT and get response\n",
    "    response = client.chat.completions.create(\n",
    "          model=\"gpt-3.5-turbo\",\n",
    "          messages=messages)\n",
    "\n",
    "    # Get content of assistant reply\n",
    "    reply = response.choices[0].message.content\n",
    "    print('\\n')\n",
    "    print(reply)\n",
    "    print('\\n')\n",
    "    # Add assistant reply for dialogue history\n",
    "    messages.append({'role':'assistant','content':reply})"
   ]
  },
  {
   "cell_type": "code",
   "execution_count": null,
   "id": "5b3164d4-7baa-46d2-ac65-76f1189a9d1c",
   "metadata": {},
   "outputs": [],
   "source": []
  }
 ],
 "metadata": {
  "kernelspec": {
   "display_name": "Python 3 (ipykernel)",
   "language": "python",
   "name": "python3"
  },
  "language_info": {
   "codemirror_mode": {
    "name": "ipython",
    "version": 3
   },
   "file_extension": ".py",
   "mimetype": "text/x-python",
   "name": "python",
   "nbconvert_exporter": "python",
   "pygments_lexer": "ipython3",
   "version": "3.9.12"
  }
 },
 "nbformat": 4,
 "nbformat_minor": 5
}

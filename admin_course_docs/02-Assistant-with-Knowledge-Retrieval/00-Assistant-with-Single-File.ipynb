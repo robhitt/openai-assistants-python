{
 "cells": [
  {
   "cell_type": "markdown",
   "id": "9b61ca09-df53-48a9-ae2b-b80ce5f8eea0",
   "metadata": {},
   "source": [
    "<center><a href=\"https://www.pieriantraining.com/\" ><img src=\"../PTCenteredPurple.png\" alt=\"Pierian Training Logo\" /></a></center>\n"
   ]
  },
  {
   "cell_type": "markdown",
   "id": "57d7168f-2a41-4db5-9c24-6d57327de3e4",
   "metadata": {},
   "source": [
    "# Knowledge Retrieval - Single File in a Message\n",
    "\n",
    "Let's break down the concept of Knowledge Retrieval in a more educational and explanatory tone:\n",
    "\n",
    "**What is Knowledge Retrieval?**\n",
    "Knowledge Retrieval is a feature that enhances the capabilities of an AI Assistant by integrating external knowledge sources. This can include specific information related to a product or documents provided by users.\n",
    "\n",
    "**How Does it Work?**\n",
    "When you upload a document to the AI Assistant, OpenAI processes this document in several steps:\n",
    "\n",
    "1. **Chunking and Indexing**: The document is divided into smaller parts (\"chunks\") and indexed, which means it's organized in a way that the AI can search through it efficiently.\n",
    "\n",
    "2. **Storing Embeddings**: Embeddings are like a condensed representation of the document's content, capturing its essential information in a format the AI can understand and retrieve when needed.\n",
    "\n",
    "3. **Implementing Vector Search**: This is a method the AI uses to find the most relevant parts of your document based on the query it receives.\n",
    "\n",
    "**Enabling Retrieval for an Assistant**\n",
    "When you activate retrieval for a particular AI Assistant, all attached files are automatically processed as described above. However, this feature comes with a cost of $0.20 per gigabyte per day for each assistant that has retrieval enabled.\n",
    "\n",
    "**Modifying Assistant Settings**\n",
    "You can turn the retrieval feature on or off by using the Modify Assistant endpoint, which is a part of the Assistant's API.\n",
    "\n",
    "**Retrieval Techniques**\n",
    "The AI Assistant chooses between two retrieval techniques based on the user's messages:\n",
    "\n",
    "1. **Direct Prompt Inclusion**: For short documents, the AI includes the content directly in its response prompt.\n",
    "\n",
    "2. **Vector Search**: For longer documents, it performs a vector search to find the most relevant information.\n",
    "\n",
    " \n",
    "Currently, the system prioritizes quality by including all relevant content in the model's context for answering queries. However, OpenAI plans to introduce more strategies for retrieval, allowing developers to choose a balance between the quality of retrieval and the cost of using the model. \n",
    " "
   ]
  },
  {
   "cell_type": "code",
   "execution_count": 1,
   "id": "f898d062-1611-46d4-9d63-ebd9e8d037c6",
   "metadata": {},
   "outputs": [],
   "source": [
    "from openai import OpenAI"
   ]
  },
  {
   "cell_type": "code",
   "execution_count": 2,
   "id": "db389007-29e3-45a4-b3ff-3c3e255b16a8",
   "metadata": {},
   "outputs": [],
   "source": [
    "client = OpenAI()"
   ]
  },
  {
   "cell_type": "markdown",
   "id": "0a5faa8d-fa70-4388-990d-1e65c01ceb73",
   "metadata": {},
   "source": [
    "----"
   ]
  },
  {
   "cell_type": "markdown",
   "id": "729aa5eb-f221-4419-a8a4-8ae3b1d5b747",
   "metadata": {},
   "source": [
    "## Uploading Files"
   ]
  },
  {
   "cell_type": "code",
   "execution_count": 3,
   "id": "7566caed-8934-4b46-8edd-d18fbe734545",
   "metadata": {},
   "outputs": [],
   "source": [
    "import os"
   ]
  },
  {
   "cell_type": "code",
   "execution_count": 4,
   "id": "9d84a29b-30b7-44f2-979b-b69a9299550a",
   "metadata": {},
   "outputs": [],
   "source": [
    "files_to_upload = ['Wonka Chocolate Facility Rules.pdf']"
   ]
  },
  {
   "cell_type": "code",
   "execution_count": 5,
   "id": "fa14312b-4025-453c-9d93-fa38c3fc24ed",
   "metadata": {},
   "outputs": [],
   "source": [
    "def upload_assistant_file(filename):\n",
    "    file = client.files.create(\n",
    "      file=open(filename, \"rb\"),\n",
    "      purpose='assistants'\n",
    "    )\n",
    "    print(file.id)"
   ]
  },
  {
   "cell_type": "code",
   "execution_count": 6,
   "id": "b3663132-6e49-4490-a9e8-4179357c5543",
   "metadata": {},
   "outputs": [
    {
     "name": "stdout",
     "output_type": "stream",
     "text": [
      "file-Dfd5QdbkpMuG7uXFZRVJ39OF\n"
     ]
    }
   ],
   "source": [
    "for file in files_to_upload:\n",
    "    upload_assistant_file(file)"
   ]
  },
  {
   "cell_type": "code",
   "execution_count": 8,
   "id": "a90dda63-6bc7-49b1-91e2-3ae61ccc402a",
   "metadata": {},
   "outputs": [
    {
     "name": "stdout",
     "output_type": "stream",
     "text": [
      "Wonka Chocolate Facility Rules.pdf has id of: file-Dfd5QdbkpMuG7uXFZRVJ39OF\n"
     ]
    }
   ],
   "source": [
    "for file in client.files.list():\n",
    "    print(f\"{file.filename} has id of: {file.id}\")"
   ]
  },
  {
   "cell_type": "markdown",
   "id": "430dc85a-e245-42aa-82b5-bed2ad84c2f5",
   "metadata": {},
   "source": [
    "## Adding Files for the Assistant (or in a message)\n",
    "\n",
    "Let's explain the process of uploading files for retrieval in a more educational and explanatory way:\n",
    "\n",
    "**Uploading Files for Retrieval: An Overview**\n",
    "When you want to use external documents to enhance the AI Assistant's responses, you can upload these files for retrieval. This process is somewhat similar to how the Code Interpreter works.\n",
    "\n",
    "**Two Levels of Attachment**\n",
    "\n",
    "1. **Assistant-Level Attachment**: When you attach a file at this level, it becomes a part of the Assistant's general knowledge base. This means the Assistant can access this information when responding to any query.\n",
    "\n",
    "2. **Message-Level Attachment**: In contrast, when you attach a file at the Message-level, it's only accessible for the specific conversation thread (or 'Thread') that the message is a part of. This is more targeted, as the file's content will only be used to respond to queries within that particular thread.\n",
    "\n",
    "**How to Attach a File to a Message**\n",
    "After uploading a file, you will receive a unique ID for that file. You can then use this ID to attach the file to a specific message. This way, the AI knows which document to refer to when crafting its response.\n",
    "\n",
    "**Charges for File Usage**\n",
    "It's important to note that the cost isn't based on the size of the files you upload. Instead, the charges are based on which files you attach to an Assistant or a Message that then get indexed (processed and made searchable by the AI).\n",
    "\n",
    "**File Size and Format Limitations**\n",
    "There are some limits on what you can upload:\n",
    "\n",
    "- **Maximum File Size**: Each file can be up to 512 MB.\n",
    "- **Token Limit**: The content of the file should not exceed 2,000,000 tokens (a token is roughly a word or a piece of a word, and this limit is calculated automatically when you attach the file).\n",
    "- **Supported Formats**: The retrieval system is compatible with various file formats, including popular ones like PDF (.pdf), Markdown (.md), and Word documents (.docx).\n",
    "\n",
    "In summary, by uploading files at either the Assistant-level or Message-level, you can significantly enhance the AI Assistant's ability to provide detailed and relevant responses based on the content of these documents. This feature supports various file formats and sizes, with costs incurred based on the indexing of attached files."
   ]
  },
  {
   "cell_type": "code",
   "execution_count": 9,
   "id": "5fe984b7-7897-473f-b31b-6dd2e3ed4f1c",
   "metadata": {},
   "outputs": [],
   "source": [
    "# Add the file to the assistant\n",
    "assistant = client.beta.assistants.create(\n",
    "    name='Rules Explainer',\n",
    "  instructions=\"You answer information about rules based on your knowledge base of PDF files.\",\n",
    "  model=\"gpt-3.5-turbo-1106\", # CHECK FOR ERROR IF YOU PROVIDE THE WRONG MODEL\n",
    "  tools=[{\"type\": \"retrieval\"}],)"
   ]
  },
  {
   "cell_type": "markdown",
   "id": "10ca2ee1-5f5a-4de1-a4e3-8aec5a3b569b",
   "metadata": {},
   "source": [
    "## Run a Thread and Add a File to Message\n",
    "\n",
    "When a file is attached at the Message-level, it is only accessible within the specific Thread the Message is attached to. After having uploaded a file, you can pass the ID of this File when creating the Message. Note that you are not charged based on the size of the files you upload via the Files API but rather based on which files you attach to a specific Assistant or Message that get indexed."
   ]
  },
  {
   "cell_type": "code",
   "execution_count": 34,
   "id": "b7de7048-854a-4123-9982-d16284061f98",
   "metadata": {},
   "outputs": [],
   "source": [
    "thread = client.beta.threads.create()"
   ]
  },
  {
   "cell_type": "code",
   "execution_count": 35,
   "id": "c41f531a-7584-4f3d-9afa-fc3e23a68c9b",
   "metadata": {},
   "outputs": [
    {
     "data": {
      "text/plain": [
       "'file-Dfd5QdbkpMuG7uXFZRVJ39OF'"
      ]
     },
     "execution_count": 35,
     "metadata": {},
     "output_type": "execute_result"
    }
   ],
   "source": [
    "file.id"
   ]
  },
  {
   "cell_type": "code",
   "execution_count": 36,
   "id": "7b90ac64-4779-4182-a4eb-0b471b820e47",
   "metadata": {},
   "outputs": [],
   "source": [
    "message = client.beta.threads.messages.create(\n",
    "    thread_id=thread.id,\n",
    "    role=\"user\",\n",
    "    content=\"Can I bring my cat to the Wonka Chocolate Facility?\",\n",
    "    file_ids=[file.id],\n",
    "    \n",
    ")"
   ]
  },
  {
   "cell_type": "code",
   "execution_count": 37,
   "id": "738b29c1-1008-4bdf-9f36-eac0cd36d427",
   "metadata": {},
   "outputs": [],
   "source": [
    "run = client.beta.threads.runs.create(\n",
    "  thread_id=thread.id,\n",
    "  assistant_id=assistant.id,\n",
    "  instructions = f\"Use file with if: {file.id} to answer questions.\" # This helps to force the model to access the file!\n",
    ")"
   ]
  },
  {
   "cell_type": "code",
   "execution_count": 38,
   "id": "d79a38c3-9d2f-42d0-8bd3-7808b8599910",
   "metadata": {},
   "outputs": [
    {
     "data": {
      "text/plain": [
       "'queued'"
      ]
     },
     "execution_count": 38,
     "metadata": {},
     "output_type": "execute_result"
    }
   ],
   "source": [
    "run.status"
   ]
  },
  {
   "cell_type": "code",
   "execution_count": 41,
   "id": "2a6c3091-4d57-44a8-950e-cb728eac186a",
   "metadata": {},
   "outputs": [
    {
     "name": "stdout",
     "output_type": "stream",
     "text": [
      "completed\n"
     ]
    }
   ],
   "source": [
    "run = client.beta.threads.runs.retrieve(\n",
    "          thread_id=thread.id,\n",
    "          run_id=run.id\n",
    "        )\n",
    "    \n",
    "print(run.status)"
   ]
  },
  {
   "cell_type": "markdown",
   "id": "1e4109fa-134b-4212-8064-e5b68d3e56b4",
   "metadata": {},
   "source": [
    "Once the run is completed, let's get the messages"
   ]
  },
  {
   "cell_type": "code",
   "execution_count": 42,
   "id": "efff742f-baaf-4881-8d4e-2020deed8811",
   "metadata": {},
   "outputs": [],
   "source": [
    "messages = client.beta.threads.messages.list(\n",
    "    thread_id=thread.id, order=\"asc\",\n",
    ")"
   ]
  },
  {
   "cell_type": "code",
   "execution_count": 43,
   "id": "7e466f1c-0bbe-4838-8f9b-39c21801cc9d",
   "metadata": {},
   "outputs": [],
   "source": [
    "def display_thread_messages(messages):\n",
    "    # EXPECTS MESSAGES IN ASC ORDER!\n",
    "    for thread_message in messages.data:\n",
    "        print(thread_message.content[0].text.value)\n",
    "        print('\\n')"
   ]
  },
  {
   "cell_type": "code",
   "execution_count": 44,
   "id": "b861eb4b-5f86-4eb8-b11f-04a802078ed9",
   "metadata": {},
   "outputs": [
    {
     "name": "stdout",
     "output_type": "stream",
     "text": [
      "Can I bring my cat to the Wonka Chocolate Facility?\n",
      "\n",
      "\n",
      "I will start by opening the file to locate the relevant information about bringing a cat to the Wonka Chocolate Facility.\n",
      "\n",
      "\n",
      "According to the facility rules, only guide dogs are allowed on the premises of the Wonka Chocolate Facility. Therefore, other pets, including cats, are not permitted at the facility【8†source】.\n",
      "\n",
      "\n"
     ]
    }
   ],
   "source": [
    "display_thread_messages(messages)"
   ]
  },
  {
   "cell_type": "markdown",
   "id": "9a4e3440-0c06-42c4-93fc-c5f568455ae2",
   "metadata": {},
   "source": [
    "# Optional: Delete Assistant and All Files"
   ]
  },
  {
   "cell_type": "code",
   "execution_count": 45,
   "id": "b10c4f9f-ee24-4468-bb7c-1138b3c86413",
   "metadata": {},
   "outputs": [
    {
     "name": "stdout",
     "output_type": "stream",
     "text": [
      "AssistantDeleted(id='asst_ha6KdfCBxhfOciGI32qQeJnR', deleted=True, object='assistant.deleted')\n"
     ]
    }
   ],
   "source": [
    "my_assistants = client.beta.assistants.list(\n",
    "    order=\"desc\",\n",
    "    limit=\"20\",\n",
    ")\n",
    "response = client.beta.assistants.delete(my_assistants.data[0].id)\n",
    "print(response)"
   ]
  },
  {
   "cell_type": "code",
   "execution_count": 48,
   "id": "9022c3db-860f-4f6d-b05d-c589de89248a",
   "metadata": {},
   "outputs": [],
   "source": [
    "for file in client.files.list():\n",
    "    client.files.delete(file.id)"
   ]
  },
  {
   "cell_type": "code",
   "execution_count": 49,
   "id": "dd2fde4b-22f1-40bb-b155-8c3f79d92c7e",
   "metadata": {},
   "outputs": [
    {
     "data": {
      "text/plain": [
       "SyncPage[FileObject](data=[], object='list', has_more=False)"
      ]
     },
     "execution_count": 49,
     "metadata": {},
     "output_type": "execute_result"
    }
   ],
   "source": [
    "client.files.list()"
   ]
  }
 ],
 "metadata": {
  "kernelspec": {
   "display_name": "Python 3 (ipykernel)",
   "language": "python",
   "name": "python3"
  },
  "language_info": {
   "codemirror_mode": {
    "name": "ipython",
    "version": 3
   },
   "file_extension": ".py",
   "mimetype": "text/x-python",
   "name": "python",
   "nbconvert_exporter": "python",
   "pygments_lexer": "ipython3",
   "version": "3.9.12"
  }
 },
 "nbformat": 4,
 "nbformat_minor": 5
}

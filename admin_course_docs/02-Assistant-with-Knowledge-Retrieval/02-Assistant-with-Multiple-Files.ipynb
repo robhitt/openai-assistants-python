{
 "cells": [
  {
   "cell_type": "markdown",
   "id": "9b61ca09-df53-48a9-ae2b-b80ce5f8eea0",
   "metadata": {},
   "source": [
    "<center><a href=\"https://www.pieriantraining.com/\" ><img src=\"../PTCenteredPurple.png\" alt=\"Pierian Training Logo\" /></a></center>\n"
   ]
  },
  {
   "cell_type": "markdown",
   "id": "57d7168f-2a41-4db5-9c24-6d57327de3e4",
   "metadata": {},
   "source": [
    "# Assistant with Multiple Files\n",
    "\n",
    "Let's pretend you just got hired to the executive team at a new company: ACME Dog Food Corporation. To help answer questions, let's create an assistant with access to a knowledge base of multiple corporate documents."
   ]
  },
  {
   "cell_type": "code",
   "execution_count": 1,
   "id": "f898d062-1611-46d4-9d63-ebd9e8d037c6",
   "metadata": {},
   "outputs": [],
   "source": [
    "from openai import OpenAI"
   ]
  },
  {
   "cell_type": "code",
   "execution_count": 2,
   "id": "db389007-29e3-45a4-b3ff-3c3e255b16a8",
   "metadata": {},
   "outputs": [],
   "source": [
    "client = OpenAI()"
   ]
  },
  {
   "cell_type": "markdown",
   "id": "050e7271-11fa-4f01-9b8e-0705d019183b",
   "metadata": {},
   "source": [
    "## Uploading Files"
   ]
  },
  {
   "cell_type": "code",
   "execution_count": 3,
   "id": "4c381293-de5a-4c26-9b4a-3d6de8e2f311",
   "metadata": {},
   "outputs": [],
   "source": [
    "import os"
   ]
  },
  {
   "cell_type": "code",
   "execution_count": 4,
   "id": "b6d7f796-b7be-4f48-919e-3d6c317a1bf2",
   "metadata": {},
   "outputs": [
    {
     "data": {
      "text/plain": [
       "['ACME Advertising Policy.pdf',\n",
       " 'ACME_Dog_Food_Ingredients.pdf',\n",
       " 'Corporate Travel Policy.pdf']"
      ]
     },
     "execution_count": 4,
     "metadata": {},
     "output_type": "execute_result"
    }
   ],
   "source": [
    "os.listdir('02-Multiple-Files/')"
   ]
  },
  {
   "cell_type": "code",
   "execution_count": 5,
   "id": "e35a1919-70fa-46c0-8b22-0128af019eb6",
   "metadata": {},
   "outputs": [],
   "source": [
    "files_to_upload = ['ACME Advertising Policy.pdf',\n",
    " 'ACME_Dog_Food_Ingredients.pdf',\n",
    " 'Corporate Travel Policy.pdf']"
   ]
  },
  {
   "cell_type": "code",
   "execution_count": 6,
   "id": "eb386ab5-d7dc-4f3e-8202-7d556210b5c3",
   "metadata": {},
   "outputs": [],
   "source": [
    "def upload_assistant_file(filename):\n",
    "    file = client.files.create(\n",
    "      file=open('02-Multiple-Files/'+filename, \"rb\"),\n",
    "      purpose='assistants'\n",
    "    )\n",
    "    print(file.id)"
   ]
  },
  {
   "cell_type": "code",
   "execution_count": 7,
   "id": "c69395c1-18ac-4d70-9b4d-6c6e88879399",
   "metadata": {},
   "outputs": [
    {
     "name": "stdout",
     "output_type": "stream",
     "text": [
      "file-AoLOXQ2kfxZjcLM3mXzBc8Z6\n",
      "file-0rfUyiB2dyurS2qIHVLf72lL\n",
      "file-HYr6rYHNvdyz7JODyJ0jzrr7\n"
     ]
    }
   ],
   "source": [
    "for file in files_to_upload:\n",
    "    upload_assistant_file(file)"
   ]
  },
  {
   "cell_type": "code",
   "execution_count": 8,
   "id": "a9ce1fe0-3ffe-45c4-9a39-180880dca162",
   "metadata": {},
   "outputs": [
    {
     "name": "stdout",
     "output_type": "stream",
     "text": [
      "Corporate Travel Policy.pdf has id of: file-HYr6rYHNvdyz7JODyJ0jzrr7\n",
      "ACME_Dog_Food_Ingredients.pdf has id of: file-0rfUyiB2dyurS2qIHVLf72lL\n",
      "ACME Advertising Policy.pdf has id of: file-AoLOXQ2kfxZjcLM3mXzBc8Z6\n"
     ]
    }
   ],
   "source": [
    "for file in client.files.list():\n",
    "    print(f\"{file.filename} has id of: {file.id}\")"
   ]
  },
  {
   "cell_type": "markdown",
   "id": "0a5faa8d-fa70-4388-990d-1e65c01ceb73",
   "metadata": {},
   "source": [
    "## Adding Files for the Assistant \n",
    "\n",
    "1. **Assistant-Level Attachment**: When you attach a file at this level, it becomes a part of the Assistant's general knowledge base. This means the Assistant can access this information when responding to any query."
   ]
  },
  {
   "cell_type": "code",
   "execution_count": 58,
   "id": "5fe984b7-7897-473f-b31b-6dd2e3ed4f1c",
   "metadata": {},
   "outputs": [],
   "source": [
    "# Add the file to the assistant\n",
    "assistant = client.beta.assistants.create(\n",
    "  instructions=\"You answer information about the company based on the PDF documents available in your knowledge base.\",\n",
    "  model=\"gpt-3.5-turbo-1106\", # CHECK FOR ERROR IF YOU PROVIDE THE WRONG MODEL\n",
    "  tools=[{\"type\": \"retrieval\"}],\n",
    "  file_ids= ['file-AoLOXQ2kfxZjcLM3mXzBc8Z6',\n",
    "'file-0rfUyiB2dyurS2qIHVLf72lL',\n",
    "'file-HYr6rYHNvdyz7JODyJ0jzrr7'])"
   ]
  },
  {
   "cell_type": "markdown",
   "id": "10ca2ee1-5f5a-4de1-a4e3-8aec5a3b569b",
   "metadata": {},
   "source": [
    "## Run a Thread"
   ]
  },
  {
   "cell_type": "code",
   "execution_count": 59,
   "id": "b7de7048-854a-4123-9982-d16284061f98",
   "metadata": {},
   "outputs": [],
   "source": [
    "thread = client.beta.threads.create()"
   ]
  },
  {
   "cell_type": "code",
   "execution_count": 60,
   "id": "7b90ac64-4779-4182-a4eb-0b471b820e47",
   "metadata": {},
   "outputs": [],
   "source": [
    "message = client.beta.threads.messages.create(\n",
    "    thread_id=thread.id,\n",
    "    role=\"user\",\n",
    "    content=\"Does our dog food allow for artificial ingredients?\"\n",
    ")"
   ]
  },
  {
   "cell_type": "code",
   "execution_count": 61,
   "id": "738b29c1-1008-4bdf-9f36-eac0cd36d427",
   "metadata": {},
   "outputs": [],
   "source": [
    "run = client.beta.threads.runs.create(\n",
    "  thread_id=thread.id,\n",
    "  assistant_id=assistant.id,\n",
    ")"
   ]
  },
  {
   "cell_type": "code",
   "execution_count": 63,
   "id": "a019c509-324b-42bb-9601-be425cc3461e",
   "metadata": {},
   "outputs": [
    {
     "name": "stdout",
     "output_type": "stream",
     "text": [
      "completed\n"
     ]
    }
   ],
   "source": [
    "run = client.beta.threads.runs.retrieve(\n",
    "  thread_id=thread.id,\n",
    "  run_id=run.id,\n",
    ")\n",
    "print(run.status)"
   ]
  },
  {
   "cell_type": "markdown",
   "id": "1e4109fa-134b-4212-8064-e5b68d3e56b4",
   "metadata": {},
   "source": [
    "Once the run is completed, let's get the messages"
   ]
  },
  {
   "cell_type": "code",
   "execution_count": 64,
   "id": "efff742f-baaf-4881-8d4e-2020deed8811",
   "metadata": {},
   "outputs": [],
   "source": [
    "messages = client.beta.threads.messages.list(\n",
    "    thread_id=thread.id, order=\"asc\",\n",
    ")"
   ]
  },
  {
   "cell_type": "code",
   "execution_count": 68,
   "id": "f828c888-0344-407b-8083-eb41e128958f",
   "metadata": {},
   "outputs": [
    {
     "name": "stdout",
     "output_type": "stream",
     "text": [
      "ThreadMessage(id='msg_Sf2OOYDbI9WxSkQo3rVt5MWb', assistant_id=None, content=[MessageContentText(text=Text(annotations=[], value='Does our dog food allow for artificial ingredients?'), type='text')], created_at=1702319885, file_ids=[], metadata={}, object='thread.message', role='user', run_id=None, thread_id='thread_xnZzIhY5R4AAQOMTjjEM3ZDN')\n",
      "\n",
      "\n",
      "ThreadMessage(id='msg_h0sTfwjVcoOPc0PCbobA51Qe', assistant_id='asst_lbz8tHzLjrR84E1NvZOWB4Az', content=[MessageContentText(text=Text(annotations=[], value='The dog food produced by ACME Dog Food Corporation exclusively contains naturally sourced ingredients, including meats, vegetables, grains, and fruits. Importantly, they strictly prohibit the use of artificial colors, flavors, or preservatives in any of their products【13†source】.'), type='text')], created_at=1702319895, file_ids=[], metadata={}, object='thread.message', role='assistant', run_id='run_1jkBqbcCff7clqEX6MbYa8Tb', thread_id='thread_xnZzIhY5R4AAQOMTjjEM3ZDN')\n",
      "\n",
      "\n"
     ]
    }
   ],
   "source": [
    "for message in messages:\n",
    "    print(message)\n",
    "    print('\\n')"
   ]
  },
  {
   "cell_type": "code",
   "execution_count": 65,
   "id": "7e466f1c-0bbe-4838-8f9b-39c21801cc9d",
   "metadata": {},
   "outputs": [],
   "source": [
    "def display_thread_messages(messages):\n",
    "    # EXPECTS MESSAGES IN ASC ORDER!\n",
    "    for thread_message in messages.data:\n",
    "        print(thread_message.content[0].text.value)\n",
    "        print('\\n')"
   ]
  },
  {
   "cell_type": "code",
   "execution_count": 66,
   "id": "b861eb4b-5f86-4eb8-b11f-04a802078ed9",
   "metadata": {},
   "outputs": [
    {
     "name": "stdout",
     "output_type": "stream",
     "text": [
      "Does our dog food allow for artificial ingredients?\n",
      "\n",
      "\n",
      "The dog food produced by ACME Dog Food Corporation exclusively contains naturally sourced ingredients, including meats, vegetables, grains, and fruits. Importantly, they strictly prohibit the use of artificial colors, flavors, or preservatives in any of their products【13†source】.\n",
      "\n",
      "\n"
     ]
    }
   ],
   "source": [
    "display_thread_messages(messages)"
   ]
  },
  {
   "cell_type": "markdown",
   "id": "9e0bb9f7-f548-4fc4-b45d-fcc8ff7d56f8",
   "metadata": {},
   "source": [
    "### Important Note on Citations: \n",
    "\n",
    "As of this filming/creation of the notebook, annotations are still often empty, but you should be able to access them as described in the documentation at some point in the future:\n",
    "\n",
    "https://platform.openai.com/docs/assistants/how-it-works/managing-threads-and-messages\n",
    "\n",
    "For example:\n",
    "\n",
    "    # Retrieve the message object\n",
    "    message = client.beta.threads.messages.retrieve(\n",
    "      thread_id=\"...\",\n",
    "      message_id=\"...\"\n",
    "    )\n",
    "\n",
    "    # Extract the message content\n",
    "    message_content = message.content[0].text\n",
    "    annotations = message_content.annotations\n",
    "    citations = []\n",
    "\n",
    "    # Iterate over the annotations and add footnotes\n",
    "    for index, annotation in enumerate(annotations):\n",
    "        # Replace the text with a footnote\n",
    "        message_content.value = message_content.value.replace(annotation.text, f' [{index}]')\n",
    "\n",
    "        # Gather citations based on annotation attributes\n",
    "        if (file_citation := getattr(annotation, 'file_citation', None)):\n",
    "            cited_file = client.files.retrieve(file_citation.file_id)\n",
    "            citations.append(f'[{index}] {file_citation.quote} from {cited_file.filename}')\n",
    "        elif (file_path := getattr(annotation, 'file_path', None)):\n",
    "            cited_file = client.files.retrieve(file_path.file_id)\n",
    "            citations.append(f'[{index}] Click <here> to download {cited_file.filename}')\n",
    "            # Note: File download functionality not implemented above for brevity\n",
    "\n",
    "    # Add footnotes to the end of the message before displaying to user\n",
    "    message_content.value += '\\n' + '\\n'.join(citations)"
   ]
  },
  {
   "cell_type": "markdown",
   "id": "0167b1e0-2142-432a-ba76-9d20524725cc",
   "metadata": {},
   "source": [
    "# Ask another message"
   ]
  },
  {
   "cell_type": "code",
   "execution_count": 86,
   "id": "b97c7af1-9590-444c-9c2b-16a4e6dba93c",
   "metadata": {},
   "outputs": [],
   "source": [
    "message = client.beta.threads.messages.create(\n",
    "    thread_id=thread.id,\n",
    "    role=\"user\",\n",
    "    content=\"Are employees allowed to take Uber and Lyft for corporate travel?\"\n",
    ")"
   ]
  },
  {
   "cell_type": "code",
   "execution_count": 87,
   "id": "3f7226c3-3ddf-45a0-83f2-4fdfef2c93ad",
   "metadata": {},
   "outputs": [],
   "source": [
    "run = client.beta.threads.runs.create(\n",
    "  thread_id=thread.id,\n",
    "  assistant_id=assistant.id,\n",
    ")"
   ]
  },
  {
   "cell_type": "code",
   "execution_count": 89,
   "id": "cd8bf249-9536-4b65-8246-e17ed9bb7c56",
   "metadata": {},
   "outputs": [
    {
     "name": "stdout",
     "output_type": "stream",
     "text": [
      "completed\n"
     ]
    }
   ],
   "source": [
    "run = client.beta.threads.runs.retrieve(\n",
    "  thread_id=thread.id,\n",
    "  run_id=run.id,\n",
    ")\n",
    "print(run.status)"
   ]
  },
  {
   "cell_type": "code",
   "execution_count": 90,
   "id": "985dfe8c-e145-44a7-a1a0-77c18de71311",
   "metadata": {},
   "outputs": [
    {
     "name": "stdout",
     "output_type": "stream",
     "text": [
      "Does our dog food allow for artificial ingredients?\n",
      "\n",
      "\n",
      "The dog food produced by ACME Dog Food Corporation exclusively contains naturally sourced ingredients, including meats, vegetables, grains, and fruits. Importantly, they strictly prohibit the use of artificial colors, flavors, or preservatives in any of their products【13†source】.\n",
      "\n",
      "\n",
      "Are employees allowed to take Uber and Lyft for corporate travel?\n",
      "\n",
      "\n",
      "Yes, employees are allowed to use Uber Pool or Lyft Line for corporate travel, and the cost is reimbursable up to $50 per day. Uber Pool and Lyft Line are actually preferred options for ridesharing according to the corporate travel policy【17†source】.\n",
      "\n",
      "\n"
     ]
    }
   ],
   "source": [
    "messages = client.beta.threads.messages.list(\n",
    "    thread_id=thread.id, order=\"asc\",\n",
    ")\n",
    "\n",
    "display_thread_messages(messages)"
   ]
  },
  {
   "cell_type": "markdown",
   "id": "1cb75094-af79-4e74-be2b-d85805dd0a97",
   "metadata": {},
   "source": [
    "----"
   ]
  },
  {
   "cell_type": "markdown",
   "id": "c8264124-4424-45a2-a5dd-6f8516b29466",
   "metadata": {},
   "source": [
    "# Optional: Delete Assistant and All Files"
   ]
  },
  {
   "cell_type": "code",
   "execution_count": 92,
   "id": "5eb64cef-bda8-4349-93bb-602024d8d67d",
   "metadata": {},
   "outputs": [
    {
     "name": "stdout",
     "output_type": "stream",
     "text": [
      "AssistantDeleted(id='asst_lbz8tHzLjrR84E1NvZOWB4Az', deleted=True, object='assistant.deleted')\n"
     ]
    }
   ],
   "source": [
    "my_assistants = client.beta.assistants.list(\n",
    "    order=\"desc\",\n",
    "    limit=\"20\",\n",
    ")\n",
    "response = client.beta.assistants.delete(my_assistants.data[0].id)\n",
    "print(response)"
   ]
  },
  {
   "cell_type": "code",
   "execution_count": 93,
   "id": "4aea4da2-19b1-4d28-a751-b918f002ec02",
   "metadata": {},
   "outputs": [],
   "source": [
    "for file in client.files.list():\n",
    "    client.files.delete(file.id)"
   ]
  },
  {
   "cell_type": "code",
   "execution_count": 94,
   "id": "2c46b51a-98ac-4eba-868e-5d8d0266906d",
   "metadata": {},
   "outputs": [
    {
     "data": {
      "text/plain": [
       "SyncPage[FileObject](data=[], object='list', has_more=False)"
      ]
     },
     "execution_count": 94,
     "metadata": {},
     "output_type": "execute_result"
    }
   ],
   "source": [
    "client.files.list()"
   ]
  },
  {
   "cell_type": "code",
   "execution_count": null,
   "id": "d1acdedd-ae7e-417f-8eef-de97f3d895ca",
   "metadata": {},
   "outputs": [],
   "source": []
  }
 ],
 "metadata": {
  "kernelspec": {
   "display_name": "Python 3 (ipykernel)",
   "language": "python",
   "name": "python3"
  },
  "language_info": {
   "codemirror_mode": {
    "name": "ipython",
    "version": 3
   },
   "file_extension": ".py",
   "mimetype": "text/x-python",
   "name": "python",
   "nbconvert_exporter": "python",
   "pygments_lexer": "ipython3",
   "version": "3.9.12"
  }
 },
 "nbformat": 4,
 "nbformat_minor": 5
}
